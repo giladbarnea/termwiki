{
 "cells": [
  {
   "cell_type": "code",
   "execution_count": 1,
   "id": "8aa378e7-d020-455d-8704-f4be3cb97678",
   "metadata": {},
   "outputs": [],
   "source": [
    "from rapidfuzz.distance import Indel"
   ]
  },
  {
   "cell_type": "code",
   "execution_count": null,
   "id": "43db5555-1c12-4a96-8bb8-872787225831",
   "metadata": {},
   "outputs": [],
   "source": [
    "distance"
   ]
  },
  {
   "cell_type": "code",
   "execution_count": 3,
   "id": "fe85b48a-a422-44e8-ae3c-91e98713a2c5",
   "metadata": {},
   "outputs": [],
   "source": [
    "from rapidfuzz import distance"
   ]
  },
  {
   "cell_type": "code",
   "execution_count": 11,
   "id": "d17e1d01-bec2-41d6-a162-023550b3fe0a",
   "metadata": {},
   "outputs": [],
   "source": [
    "algos = [\"Indel\", \"DamerauLevenshtein\", \"Levenshtein\", \"Jaro\", \"JaroWinkler\", \"LCSseq\", \"Hamming\", \"OSA\"]"
   ]
  },
  {
   "cell_type": "code",
   "execution_count": 12,
   "id": "089afcca-5c88-40ac-b09f-44906ba95756",
   "metadata": {},
   "outputs": [],
   "source": [
    "p1 = (\"lewenstein\", \"levenshtein\")"
   ]
  },
  {
   "cell_type": "code",
   "execution_count": 13,
   "id": "c59e605e-194d-48d2-ab66-e5e03dc4edd2",
   "metadata": {},
   "outputs": [],
   "source": [
    "p2 = (\"crate\", \"trace\")"
   ]
  },
  {
   "cell_type": "code",
   "execution_count": 15,
   "id": "291cdc2f-1b8d-45b1-8805-ecf2c8f79cfd",
   "metadata": {},
   "outputs": [],
   "source": [
    "p3 = (\"validator\", \"validators\")"
   ]
  },
  {
   "cell_type": "code",
   "execution_count": 41,
   "id": "f7653fd5-2baa-4508-8dee-263077eb9c23",
   "metadata": {},
   "outputs": [],
   "source": [
    "p4 = (\"same\", \"same\")"
   ]
  },
  {
   "cell_type": "code",
   "execution_count": 56,
   "id": "f721a60b-b101-43ef-b2c4-3d5f17b39519",
   "metadata": {},
   "outputs": [],
   "source": [
    "p5 = (\"abcdef\", \"ahijkl\")"
   ]
  },
  {
   "cell_type": "code",
   "execution_count": 52,
   "id": "47e7ab73-5817-4faf-a96f-6acd7258c350",
   "metadata": {},
   "outputs": [],
   "source": [
    "p6 = (\"abcdef\", \"defghi\")"
   ]
  },
  {
   "cell_type": "code",
   "execution_count": 53,
   "id": "ef286aee-6af2-433a-a5ee-000c4cd8202f",
   "metadata": {},
   "outputs": [],
   "source": [
    "p7 = (\"abcdef\", \"fedcba\")"
   ]
  },
  {
   "cell_type": "code",
   "execution_count": 59,
   "id": "2492fc5f-b771-4357-9d2e-87a8738959fc",
   "metadata": {},
   "outputs": [],
   "source": [
    "pairs = [p1,p2,p3, (\"validators\", \"field\"),(\"validators\", \"config\"),  p4, p5,p6,p7]"
   ]
  },
  {
   "cell_type": "code",
   "execution_count": 29,
   "id": "5f8935b7-33b7-48d8-9443-04cfc8ad3520",
   "metadata": {},
   "outputs": [],
   "source": [
    "from rich import print"
   ]
  },
  {
   "cell_type": "code",
   "execution_count": 76,
   "id": "6faed172-a551-4420-a040-f11f3a87c48a",
   "metadata": {},
   "outputs": [
    {
     "data": {
      "text/html": [
       "<pre style=\"white-space:pre;overflow-x:auto;line-height:normal;font-family:Menlo,'DejaVu Sans Mono',consolas,'Courier New',monospace\"><span style=\"color: #ffffff; text-decoration-color: #ffffff; font-weight: bold\">lewenstein:levenshtein</span>\n",
       "</pre>\n"
      ],
      "text/plain": [
       "\u001B[1;97mlewenstein:levenshtein\u001B[0m\n"
      ]
     },
     "metadata": {},
     "output_type": "display_data"
    },
    {
     "data": {
      "text/html": [
       "<pre style=\"white-space:pre;overflow-x:auto;line-height:normal;font-family:Menlo,'DejaVu Sans Mono',consolas,'Courier New',monospace\"> Indel               <span style=\"color: #008080; text-decoration-color: #008080; font-weight: bold\">0.86</span>\n",
       "</pre>\n"
      ],
      "text/plain": [
       " Indel               \u001B[1;36m0.86\u001B[0m\n"
      ]
     },
     "metadata": {},
     "output_type": "display_data"
    },
    {
     "data": {
      "text/html": [
       "<pre style=\"white-space:pre;overflow-x:auto;line-height:normal;font-family:Menlo,'DejaVu Sans Mono',consolas,'Courier New',monospace\"> DamerauLevenshtein  <span style=\"color: #008080; text-decoration-color: #008080; font-weight: bold\">0.82</span>\n",
       "</pre>\n"
      ],
      "text/plain": [
       " DamerauLevenshtein  \u001B[1;36m0.82\u001B[0m\n"
      ]
     },
     "metadata": {},
     "output_type": "display_data"
    },
    {
     "data": {
      "text/html": [
       "<pre style=\"white-space:pre;overflow-x:auto;line-height:normal;font-family:Menlo,'DejaVu Sans Mono',consolas,'Courier New',monospace\"> Levenshtein         <span style=\"color: #008080; text-decoration-color: #008080; font-weight: bold\">0.82</span>\n",
       "</pre>\n"
      ],
      "text/plain": [
       " Levenshtein         \u001B[1;36m0.82\u001B[0m\n"
      ]
     },
     "metadata": {},
     "output_type": "display_data"
    },
    {
     "data": {
      "text/html": [
       "<pre style=\"white-space:pre;overflow-x:auto;line-height:normal;font-family:Menlo,'DejaVu Sans Mono',consolas,'Courier New',monospace\"> Jaro                <span style=\"color: #008080; text-decoration-color: #008080; font-weight: bold\">0.91</span>\n",
       "</pre>\n"
      ],
      "text/plain": [
       " Jaro                \u001B[1;36m0.91\u001B[0m\n"
      ]
     },
     "metadata": {},
     "output_type": "display_data"
    },
    {
     "data": {
      "text/html": [
       "<pre style=\"white-space:pre;overflow-x:auto;line-height:normal;font-family:Menlo,'DejaVu Sans Mono',consolas,'Courier New',monospace\"> JaroWinkler         <span style=\"color: #008080; text-decoration-color: #008080; font-weight: bold\">0.92</span>\n",
       "</pre>\n"
      ],
      "text/plain": [
       " JaroWinkler         \u001B[1;36m0.92\u001B[0m\n"
      ]
     },
     "metadata": {},
     "output_type": "display_data"
    },
    {
     "data": {
      "text/html": [
       "<pre style=\"white-space:pre;overflow-x:auto;line-height:normal;font-family:Menlo,'DejaVu Sans Mono',consolas,'Courier New',monospace\"> LCSseq              <span style=\"color: #008080; text-decoration-color: #008080; font-weight: bold\">0.82</span>\n",
       "</pre>\n"
      ],
      "text/plain": [
       " LCSseq              \u001B[1;36m0.82\u001B[0m\n"
      ]
     },
     "metadata": {},
     "output_type": "display_data"
    },
    {
     "data": {
      "text/html": [
       "<pre style=\"white-space:pre;overflow-x:auto;line-height:normal;font-family:Menlo,'DejaVu Sans Mono',consolas,'Courier New',monospace\">  <span style=\"color: #800080; text-decoration-color: #800080; font-weight: bold\">ValueError</span><span style=\"font-weight: bold\">(</span><span style=\"color: #008000; text-decoration-color: #008000\">'Sequences are not the same length.'</span><span style=\"font-weight: bold\">)</span>\n",
       "</pre>\n"
      ],
      "text/plain": [
       "  \u001B[1;35mValueError\u001B[0m\u001B[1m(\u001B[0m\u001B[32m'Sequences are not the same length.'\u001B[0m\u001B[1m)\u001B[0m\n"
      ]
     },
     "metadata": {},
     "output_type": "display_data"
    },
    {
     "data": {
      "text/html": [
       "<pre style=\"white-space:pre;overflow-x:auto;line-height:normal;font-family:Menlo,'DejaVu Sans Mono',consolas,'Courier New',monospace\"> OSA                 <span style=\"color: #008080; text-decoration-color: #008080; font-weight: bold\">0.82</span>\n",
       "</pre>\n"
      ],
      "text/plain": [
       " OSA                 \u001B[1;36m0.82\u001B[0m\n"
      ]
     },
     "metadata": {},
     "output_type": "display_data"
    },
    {
     "data": {
      "text/html": [
       "<pre style=\"white-space:pre;overflow-x:auto;line-height:normal;font-family:Menlo,'DejaVu Sans Mono',consolas,'Courier New',monospace\"><span style=\"color: #ffffff; text-decoration-color: #ffffff; font-weight: bold\">crate:trace</span>\n",
       "</pre>\n"
      ],
      "text/plain": [
       "\u001B[1;97mcrate:trace\u001B[0m\n"
      ]
     },
     "metadata": {},
     "output_type": "display_data"
    },
    {
     "data": {
      "text/html": [
       "<pre style=\"white-space:pre;overflow-x:auto;line-height:normal;font-family:Menlo,'DejaVu Sans Mono',consolas,'Courier New',monospace\"> Indel               <span style=\"color: #008080; text-decoration-color: #008080; font-weight: bold\">0.6</span>\n",
       "</pre>\n"
      ],
      "text/plain": [
       " Indel               \u001B[1;36m0.6\u001B[0m\n"
      ]
     },
     "metadata": {},
     "output_type": "display_data"
    },
    {
     "data": {
      "text/html": [
       "<pre style=\"white-space:pre;overflow-x:auto;line-height:normal;font-family:Menlo,'DejaVu Sans Mono',consolas,'Courier New',monospace\"> DamerauLevenshtein  <span style=\"color: #008080; text-decoration-color: #008080; font-weight: bold\">0.6</span>\n",
       "</pre>\n"
      ],
      "text/plain": [
       " DamerauLevenshtein  \u001B[1;36m0.6\u001B[0m\n"
      ]
     },
     "metadata": {},
     "output_type": "display_data"
    },
    {
     "data": {
      "text/html": [
       "<pre style=\"white-space:pre;overflow-x:auto;line-height:normal;font-family:Menlo,'DejaVu Sans Mono',consolas,'Courier New',monospace\"> Levenshtein         <span style=\"color: #008080; text-decoration-color: #008080; font-weight: bold\">0.6</span>\n",
       "</pre>\n"
      ],
      "text/plain": [
       " Levenshtein         \u001B[1;36m0.6\u001B[0m\n"
      ]
     },
     "metadata": {},
     "output_type": "display_data"
    },
    {
     "data": {
      "text/html": [
       "<pre style=\"white-space:pre;overflow-x:auto;line-height:normal;font-family:Menlo,'DejaVu Sans Mono',consolas,'Courier New',monospace\"> Jaro                <span style=\"color: #008080; text-decoration-color: #008080; font-weight: bold\">0.73</span>\n",
       "</pre>\n"
      ],
      "text/plain": [
       " Jaro                \u001B[1;36m0.73\u001B[0m\n"
      ]
     },
     "metadata": {},
     "output_type": "display_data"
    },
    {
     "data": {
      "text/html": [
       "<pre style=\"white-space:pre;overflow-x:auto;line-height:normal;font-family:Menlo,'DejaVu Sans Mono',consolas,'Courier New',monospace\"> JaroWinkler         <span style=\"color: #008080; text-decoration-color: #008080; font-weight: bold\">0.73</span>\n",
       "</pre>\n"
      ],
      "text/plain": [
       " JaroWinkler         \u001B[1;36m0.73\u001B[0m\n"
      ]
     },
     "metadata": {},
     "output_type": "display_data"
    },
    {
     "data": {
      "text/html": [
       "<pre style=\"white-space:pre;overflow-x:auto;line-height:normal;font-family:Menlo,'DejaVu Sans Mono',consolas,'Courier New',monospace\"> LCSseq              <span style=\"color: #008080; text-decoration-color: #008080; font-weight: bold\">0.6</span>\n",
       "</pre>\n"
      ],
      "text/plain": [
       " LCSseq              \u001B[1;36m0.6\u001B[0m\n"
      ]
     },
     "metadata": {},
     "output_type": "display_data"
    },
    {
     "data": {
      "text/html": [
       "<pre style=\"white-space:pre;overflow-x:auto;line-height:normal;font-family:Menlo,'DejaVu Sans Mono',consolas,'Courier New',monospace\"> Hamming             <span style=\"color: #008080; text-decoration-color: #008080; font-weight: bold\">0.6</span>\n",
       "</pre>\n"
      ],
      "text/plain": [
       " Hamming             \u001B[1;36m0.6\u001B[0m\n"
      ]
     },
     "metadata": {},
     "output_type": "display_data"
    },
    {
     "data": {
      "text/html": [
       "<pre style=\"white-space:pre;overflow-x:auto;line-height:normal;font-family:Menlo,'DejaVu Sans Mono',consolas,'Courier New',monospace\"> OSA                 <span style=\"color: #008080; text-decoration-color: #008080; font-weight: bold\">0.6</span>\n",
       "</pre>\n"
      ],
      "text/plain": [
       " OSA                 \u001B[1;36m0.6\u001B[0m\n"
      ]
     },
     "metadata": {},
     "output_type": "display_data"
    },
    {
     "data": {
      "text/html": [
       "<pre style=\"white-space:pre;overflow-x:auto;line-height:normal;font-family:Menlo,'DejaVu Sans Mono',consolas,'Courier New',monospace\"><span style=\"color: #ffffff; text-decoration-color: #ffffff; font-weight: bold\">validator:validators</span>\n",
       "</pre>\n"
      ],
      "text/plain": [
       "\u001B[1;97mvalidator:validators\u001B[0m\n"
      ]
     },
     "metadata": {},
     "output_type": "display_data"
    },
    {
     "data": {
      "text/html": [
       "<pre style=\"white-space:pre;overflow-x:auto;line-height:normal;font-family:Menlo,'DejaVu Sans Mono',consolas,'Courier New',monospace\"> Indel               <span style=\"color: #008080; text-decoration-color: #008080; font-weight: bold\">0.95</span>\n",
       "</pre>\n"
      ],
      "text/plain": [
       " Indel               \u001B[1;36m0.95\u001B[0m\n"
      ]
     },
     "metadata": {},
     "output_type": "display_data"
    },
    {
     "data": {
      "text/html": [
       "<pre style=\"white-space:pre;overflow-x:auto;line-height:normal;font-family:Menlo,'DejaVu Sans Mono',consolas,'Courier New',monospace\"> DamerauLevenshtein  <span style=\"color: #008080; text-decoration-color: #008080; font-weight: bold\">0.9</span>\n",
       "</pre>\n"
      ],
      "text/plain": [
       " DamerauLevenshtein  \u001B[1;36m0.9\u001B[0m\n"
      ]
     },
     "metadata": {},
     "output_type": "display_data"
    },
    {
     "data": {
      "text/html": [
       "<pre style=\"white-space:pre;overflow-x:auto;line-height:normal;font-family:Menlo,'DejaVu Sans Mono',consolas,'Courier New',monospace\"> Levenshtein         <span style=\"color: #008080; text-decoration-color: #008080; font-weight: bold\">0.9</span>\n",
       "</pre>\n"
      ],
      "text/plain": [
       " Levenshtein         \u001B[1;36m0.9\u001B[0m\n"
      ]
     },
     "metadata": {},
     "output_type": "display_data"
    },
    {
     "data": {
      "text/html": [
       "<pre style=\"white-space:pre;overflow-x:auto;line-height:normal;font-family:Menlo,'DejaVu Sans Mono',consolas,'Courier New',monospace\"> Jaro                <span style=\"color: #008080; text-decoration-color: #008080; font-weight: bold\">0.97</span>\n",
       "</pre>\n"
      ],
      "text/plain": [
       " Jaro                \u001B[1;36m0.97\u001B[0m\n"
      ]
     },
     "metadata": {},
     "output_type": "display_data"
    },
    {
     "data": {
      "text/html": [
       "<pre style=\"white-space:pre;overflow-x:auto;line-height:normal;font-family:Menlo,'DejaVu Sans Mono',consolas,'Courier New',monospace\"> JaroWinkler         <span style=\"color: #008080; text-decoration-color: #008080; font-weight: bold\">0.98</span>\n",
       "</pre>\n"
      ],
      "text/plain": [
       " JaroWinkler         \u001B[1;36m0.98\u001B[0m\n"
      ]
     },
     "metadata": {},
     "output_type": "display_data"
    },
    {
     "data": {
      "text/html": [
       "<pre style=\"white-space:pre;overflow-x:auto;line-height:normal;font-family:Menlo,'DejaVu Sans Mono',consolas,'Courier New',monospace\"> LCSseq              <span style=\"color: #008080; text-decoration-color: #008080; font-weight: bold\">0.9</span>\n",
       "</pre>\n"
      ],
      "text/plain": [
       " LCSseq              \u001B[1;36m0.9\u001B[0m\n"
      ]
     },
     "metadata": {},
     "output_type": "display_data"
    },
    {
     "data": {
      "text/html": [
       "<pre style=\"white-space:pre;overflow-x:auto;line-height:normal;font-family:Menlo,'DejaVu Sans Mono',consolas,'Courier New',monospace\">  <span style=\"color: #800080; text-decoration-color: #800080; font-weight: bold\">ValueError</span><span style=\"font-weight: bold\">(</span><span style=\"color: #008000; text-decoration-color: #008000\">'Sequences are not the same length.'</span><span style=\"font-weight: bold\">)</span>\n",
       "</pre>\n"
      ],
      "text/plain": [
       "  \u001B[1;35mValueError\u001B[0m\u001B[1m(\u001B[0m\u001B[32m'Sequences are not the same length.'\u001B[0m\u001B[1m)\u001B[0m\n"
      ]
     },
     "metadata": {},
     "output_type": "display_data"
    },
    {
     "data": {
      "text/html": [
       "<pre style=\"white-space:pre;overflow-x:auto;line-height:normal;font-family:Menlo,'DejaVu Sans Mono',consolas,'Courier New',monospace\"> OSA                 <span style=\"color: #008080; text-decoration-color: #008080; font-weight: bold\">0.9</span>\n",
       "</pre>\n"
      ],
      "text/plain": [
       " OSA                 \u001B[1;36m0.9\u001B[0m\n"
      ]
     },
     "metadata": {},
     "output_type": "display_data"
    },
    {
     "data": {
      "text/html": [
       "<pre style=\"white-space:pre;overflow-x:auto;line-height:normal;font-family:Menlo,'DejaVu Sans Mono',consolas,'Courier New',monospace\"><span style=\"color: #ffffff; text-decoration-color: #ffffff; font-weight: bold\">validators:field</span>\n",
       "</pre>\n"
      ],
      "text/plain": [
       "\u001B[1;97mvalidators:field\u001B[0m\n"
      ]
     },
     "metadata": {},
     "output_type": "display_data"
    },
    {
     "data": {
      "text/html": [
       "<pre style=\"white-space:pre;overflow-x:auto;line-height:normal;font-family:Menlo,'DejaVu Sans Mono',consolas,'Courier New',monospace\"> Indel               <span style=\"color: #008080; text-decoration-color: #008080; font-weight: bold\">0.27</span>\n",
       "</pre>\n"
      ],
      "text/plain": [
       " Indel               \u001B[1;36m0.27\u001B[0m\n"
      ]
     },
     "metadata": {},
     "output_type": "display_data"
    },
    {
     "data": {
      "text/html": [
       "<pre style=\"white-space:pre;overflow-x:auto;line-height:normal;font-family:Menlo,'DejaVu Sans Mono',consolas,'Courier New',monospace\"> DamerauLevenshtein  <span style=\"color: #008080; text-decoration-color: #008080; font-weight: bold\">0.1</span>\n",
       "</pre>\n"
      ],
      "text/plain": [
       " DamerauLevenshtein  \u001B[1;36m0.1\u001B[0m\n"
      ]
     },
     "metadata": {},
     "output_type": "display_data"
    },
    {
     "data": {
      "text/html": [
       "<pre style=\"white-space:pre;overflow-x:auto;line-height:normal;font-family:Menlo,'DejaVu Sans Mono',consolas,'Courier New',monospace\"> Levenshtein         <span style=\"color: #008080; text-decoration-color: #008080; font-weight: bold\">0.1</span>\n",
       "</pre>\n"
      ],
      "text/plain": [
       " Levenshtein         \u001B[1;36m0.1\u001B[0m\n"
      ]
     },
     "metadata": {},
     "output_type": "display_data"
    },
    {
     "data": {
      "text/html": [
       "<pre style=\"white-space:pre;overflow-x:auto;line-height:normal;font-family:Menlo,'DejaVu Sans Mono',consolas,'Courier New',monospace\"> Jaro                <span style=\"color: #008080; text-decoration-color: #008080; font-weight: bold\">0.52</span>\n",
       "</pre>\n"
      ],
      "text/plain": [
       " Jaro                \u001B[1;36m0.52\u001B[0m\n"
      ]
     },
     "metadata": {},
     "output_type": "display_data"
    },
    {
     "data": {
      "text/html": [
       "<pre style=\"white-space:pre;overflow-x:auto;line-height:normal;font-family:Menlo,'DejaVu Sans Mono',consolas,'Courier New',monospace\"> JaroWinkler         <span style=\"color: #008080; text-decoration-color: #008080; font-weight: bold\">0.52</span>\n",
       "</pre>\n"
      ],
      "text/plain": [
       " JaroWinkler         \u001B[1;36m0.52\u001B[0m\n"
      ]
     },
     "metadata": {},
     "output_type": "display_data"
    },
    {
     "data": {
      "text/html": [
       "<pre style=\"white-space:pre;overflow-x:auto;line-height:normal;font-family:Menlo,'DejaVu Sans Mono',consolas,'Courier New',monospace\"> LCSseq              <span style=\"color: #008080; text-decoration-color: #008080; font-weight: bold\">0.2</span>\n",
       "</pre>\n"
      ],
      "text/plain": [
       " LCSseq              \u001B[1;36m0.2\u001B[0m\n"
      ]
     },
     "metadata": {},
     "output_type": "display_data"
    },
    {
     "data": {
      "text/html": [
       "<pre style=\"white-space:pre;overflow-x:auto;line-height:normal;font-family:Menlo,'DejaVu Sans Mono',consolas,'Courier New',monospace\">  <span style=\"color: #800080; text-decoration-color: #800080; font-weight: bold\">ValueError</span><span style=\"font-weight: bold\">(</span><span style=\"color: #008000; text-decoration-color: #008000\">'Sequences are not the same length.'</span><span style=\"font-weight: bold\">)</span>\n",
       "</pre>\n"
      ],
      "text/plain": [
       "  \u001B[1;35mValueError\u001B[0m\u001B[1m(\u001B[0m\u001B[32m'Sequences are not the same length.'\u001B[0m\u001B[1m)\u001B[0m\n"
      ]
     },
     "metadata": {},
     "output_type": "display_data"
    },
    {
     "data": {
      "text/html": [
       "<pre style=\"white-space:pre;overflow-x:auto;line-height:normal;font-family:Menlo,'DejaVu Sans Mono',consolas,'Courier New',monospace\"> OSA                 <span style=\"color: #008080; text-decoration-color: #008080; font-weight: bold\">0.1</span>\n",
       "</pre>\n"
      ],
      "text/plain": [
       " OSA                 \u001B[1;36m0.1\u001B[0m\n"
      ]
     },
     "metadata": {},
     "output_type": "display_data"
    },
    {
     "data": {
      "text/html": [
       "<pre style=\"white-space:pre;overflow-x:auto;line-height:normal;font-family:Menlo,'DejaVu Sans Mono',consolas,'Courier New',monospace\"><span style=\"color: #ffffff; text-decoration-color: #ffffff; font-weight: bold\">validators:config</span>\n",
       "</pre>\n"
      ],
      "text/plain": [
       "\u001B[1;97mvalidators:config\u001B[0m\n"
      ]
     },
     "metadata": {},
     "output_type": "display_data"
    },
    {
     "data": {
      "text/html": [
       "<pre style=\"white-space:pre;overflow-x:auto;line-height:normal;font-family:Menlo,'DejaVu Sans Mono',consolas,'Courier New',monospace\"> Indel               <span style=\"color: #008080; text-decoration-color: #008080; font-weight: bold\">0.12</span>\n",
       "</pre>\n"
      ],
      "text/plain": [
       " Indel               \u001B[1;36m0.12\u001B[0m\n"
      ]
     },
     "metadata": {},
     "output_type": "display_data"
    },
    {
     "data": {
      "text/html": [
       "<pre style=\"white-space:pre;overflow-x:auto;line-height:normal;font-family:Menlo,'DejaVu Sans Mono',consolas,'Courier New',monospace\"> DamerauLevenshtein  <span style=\"color: #008080; text-decoration-color: #008080; font-weight: bold\">0.0</span>\n",
       "</pre>\n"
      ],
      "text/plain": [
       " DamerauLevenshtein  \u001B[1;36m0.0\u001B[0m\n"
      ]
     },
     "metadata": {},
     "output_type": "display_data"
    },
    {
     "data": {
      "text/html": [
       "<pre style=\"white-space:pre;overflow-x:auto;line-height:normal;font-family:Menlo,'DejaVu Sans Mono',consolas,'Courier New',monospace\"> Levenshtein         <span style=\"color: #008080; text-decoration-color: #008080; font-weight: bold\">0.0</span>\n",
       "</pre>\n"
      ],
      "text/plain": [
       " Levenshtein         \u001B[1;36m0.0\u001B[0m\n"
      ]
     },
     "metadata": {},
     "output_type": "display_data"
    },
    {
     "data": {
      "text/html": [
       "<pre style=\"white-space:pre;overflow-x:auto;line-height:normal;font-family:Menlo,'DejaVu Sans Mono',consolas,'Courier New',monospace\"> Jaro                <span style=\"color: #008080; text-decoration-color: #008080; font-weight: bold\">0.42</span>\n",
       "</pre>\n"
      ],
      "text/plain": [
       " Jaro                \u001B[1;36m0.42\u001B[0m\n"
      ]
     },
     "metadata": {},
     "output_type": "display_data"
    },
    {
     "data": {
      "text/html": [
       "<pre style=\"white-space:pre;overflow-x:auto;line-height:normal;font-family:Menlo,'DejaVu Sans Mono',consolas,'Courier New',monospace\"> JaroWinkler         <span style=\"color: #008080; text-decoration-color: #008080; font-weight: bold\">0.42</span>\n",
       "</pre>\n"
      ],
      "text/plain": [
       " JaroWinkler         \u001B[1;36m0.42\u001B[0m\n"
      ]
     },
     "metadata": {},
     "output_type": "display_data"
    },
    {
     "data": {
      "text/html": [
       "<pre style=\"white-space:pre;overflow-x:auto;line-height:normal;font-family:Menlo,'DejaVu Sans Mono',consolas,'Courier New',monospace\"> LCSseq              <span style=\"color: #008080; text-decoration-color: #008080; font-weight: bold\">0.1</span>\n",
       "</pre>\n"
      ],
      "text/plain": [
       " LCSseq              \u001B[1;36m0.1\u001B[0m\n"
      ]
     },
     "metadata": {},
     "output_type": "display_data"
    },
    {
     "data": {
      "text/html": [
       "<pre style=\"white-space:pre;overflow-x:auto;line-height:normal;font-family:Menlo,'DejaVu Sans Mono',consolas,'Courier New',monospace\">  <span style=\"color: #800080; text-decoration-color: #800080; font-weight: bold\">ValueError</span><span style=\"font-weight: bold\">(</span><span style=\"color: #008000; text-decoration-color: #008000\">'Sequences are not the same length.'</span><span style=\"font-weight: bold\">)</span>\n",
       "</pre>\n"
      ],
      "text/plain": [
       "  \u001B[1;35mValueError\u001B[0m\u001B[1m(\u001B[0m\u001B[32m'Sequences are not the same length.'\u001B[0m\u001B[1m)\u001B[0m\n"
      ]
     },
     "metadata": {},
     "output_type": "display_data"
    },
    {
     "data": {
      "text/html": [
       "<pre style=\"white-space:pre;overflow-x:auto;line-height:normal;font-family:Menlo,'DejaVu Sans Mono',consolas,'Courier New',monospace\"> OSA                 <span style=\"color: #008080; text-decoration-color: #008080; font-weight: bold\">0.0</span>\n",
       "</pre>\n"
      ],
      "text/plain": [
       " OSA                 \u001B[1;36m0.0\u001B[0m\n"
      ]
     },
     "metadata": {},
     "output_type": "display_data"
    },
    {
     "data": {
      "text/html": [
       "<pre style=\"white-space:pre;overflow-x:auto;line-height:normal;font-family:Menlo,'DejaVu Sans Mono',consolas,'Courier New',monospace\"><span style=\"color: #ffffff; text-decoration-color: #ffffff; font-weight: bold\">same:same</span>\n",
       "</pre>\n"
      ],
      "text/plain": [
       "\u001B[1;97msame:same\u001B[0m\n"
      ]
     },
     "metadata": {},
     "output_type": "display_data"
    },
    {
     "data": {
      "text/html": [
       "<pre style=\"white-space:pre;overflow-x:auto;line-height:normal;font-family:Menlo,'DejaVu Sans Mono',consolas,'Courier New',monospace\"> Indel               <span style=\"color: #008080; text-decoration-color: #008080; font-weight: bold\">1.0</span>\n",
       "</pre>\n"
      ],
      "text/plain": [
       " Indel               \u001B[1;36m1.0\u001B[0m\n"
      ]
     },
     "metadata": {},
     "output_type": "display_data"
    },
    {
     "data": {
      "text/html": [
       "<pre style=\"white-space:pre;overflow-x:auto;line-height:normal;font-family:Menlo,'DejaVu Sans Mono',consolas,'Courier New',monospace\"> DamerauLevenshtein  <span style=\"color: #008080; text-decoration-color: #008080; font-weight: bold\">1.0</span>\n",
       "</pre>\n"
      ],
      "text/plain": [
       " DamerauLevenshtein  \u001B[1;36m1.0\u001B[0m\n"
      ]
     },
     "metadata": {},
     "output_type": "display_data"
    },
    {
     "data": {
      "text/html": [
       "<pre style=\"white-space:pre;overflow-x:auto;line-height:normal;font-family:Menlo,'DejaVu Sans Mono',consolas,'Courier New',monospace\"> Levenshtein         <span style=\"color: #008080; text-decoration-color: #008080; font-weight: bold\">1.0</span>\n",
       "</pre>\n"
      ],
      "text/plain": [
       " Levenshtein         \u001B[1;36m1.0\u001B[0m\n"
      ]
     },
     "metadata": {},
     "output_type": "display_data"
    },
    {
     "data": {
      "text/html": [
       "<pre style=\"white-space:pre;overflow-x:auto;line-height:normal;font-family:Menlo,'DejaVu Sans Mono',consolas,'Courier New',monospace\"> Jaro                <span style=\"color: #008080; text-decoration-color: #008080; font-weight: bold\">1.0</span>\n",
       "</pre>\n"
      ],
      "text/plain": [
       " Jaro                \u001B[1;36m1.0\u001B[0m\n"
      ]
     },
     "metadata": {},
     "output_type": "display_data"
    },
    {
     "data": {
      "text/html": [
       "<pre style=\"white-space:pre;overflow-x:auto;line-height:normal;font-family:Menlo,'DejaVu Sans Mono',consolas,'Courier New',monospace\"> JaroWinkler         <span style=\"color: #008080; text-decoration-color: #008080; font-weight: bold\">1.0</span>\n",
       "</pre>\n"
      ],
      "text/plain": [
       " JaroWinkler         \u001B[1;36m1.0\u001B[0m\n"
      ]
     },
     "metadata": {},
     "output_type": "display_data"
    },
    {
     "data": {
      "text/html": [
       "<pre style=\"white-space:pre;overflow-x:auto;line-height:normal;font-family:Menlo,'DejaVu Sans Mono',consolas,'Courier New',monospace\"> LCSseq              <span style=\"color: #008080; text-decoration-color: #008080; font-weight: bold\">1.0</span>\n",
       "</pre>\n"
      ],
      "text/plain": [
       " LCSseq              \u001B[1;36m1.0\u001B[0m\n"
      ]
     },
     "metadata": {},
     "output_type": "display_data"
    },
    {
     "data": {
      "text/html": [
       "<pre style=\"white-space:pre;overflow-x:auto;line-height:normal;font-family:Menlo,'DejaVu Sans Mono',consolas,'Courier New',monospace\"> Hamming             <span style=\"color: #008080; text-decoration-color: #008080; font-weight: bold\">1.0</span>\n",
       "</pre>\n"
      ],
      "text/plain": [
       " Hamming             \u001B[1;36m1.0\u001B[0m\n"
      ]
     },
     "metadata": {},
     "output_type": "display_data"
    },
    {
     "data": {
      "text/html": [
       "<pre style=\"white-space:pre;overflow-x:auto;line-height:normal;font-family:Menlo,'DejaVu Sans Mono',consolas,'Courier New',monospace\"> OSA                 <span style=\"color: #008080; text-decoration-color: #008080; font-weight: bold\">1.0</span>\n",
       "</pre>\n"
      ],
      "text/plain": [
       " OSA                 \u001B[1;36m1.0\u001B[0m\n"
      ]
     },
     "metadata": {},
     "output_type": "display_data"
    },
    {
     "data": {
      "text/html": [
       "<pre style=\"white-space:pre;overflow-x:auto;line-height:normal;font-family:Menlo,'DejaVu Sans Mono',consolas,'Courier New',monospace\"><span style=\"color: #ffffff; text-decoration-color: #ffffff; font-weight: bold\">abcdef:ahijkl</span>\n",
       "</pre>\n"
      ],
      "text/plain": [
       "\u001B[1;97mab\u001B[0m\u001B[1;97mcdef:a\u001B[0m\u001B[1;97mhijkl\u001B[0m\n"
      ]
     },
     "metadata": {},
     "output_type": "display_data"
    },
    {
     "data": {
      "text/html": [
       "<pre style=\"white-space:pre;overflow-x:auto;line-height:normal;font-family:Menlo,'DejaVu Sans Mono',consolas,'Courier New',monospace\"> Indel               <span style=\"color: #008080; text-decoration-color: #008080; font-weight: bold\">0.17</span>\n",
       "</pre>\n"
      ],
      "text/plain": [
       " Indel               \u001B[1;36m0.17\u001B[0m\n"
      ]
     },
     "metadata": {},
     "output_type": "display_data"
    },
    {
     "data": {
      "text/html": [
       "<pre style=\"white-space:pre;overflow-x:auto;line-height:normal;font-family:Menlo,'DejaVu Sans Mono',consolas,'Courier New',monospace\"> DamerauLevenshtein  <span style=\"color: #008080; text-decoration-color: #008080; font-weight: bold\">0.17</span>\n",
       "</pre>\n"
      ],
      "text/plain": [
       " DamerauLevenshtein  \u001B[1;36m0.17\u001B[0m\n"
      ]
     },
     "metadata": {},
     "output_type": "display_data"
    },
    {
     "data": {
      "text/html": [
       "<pre style=\"white-space:pre;overflow-x:auto;line-height:normal;font-family:Menlo,'DejaVu Sans Mono',consolas,'Courier New',monospace\"> Levenshtein         <span style=\"color: #008080; text-decoration-color: #008080; font-weight: bold\">0.17</span>\n",
       "</pre>\n"
      ],
      "text/plain": [
       " Levenshtein         \u001B[1;36m0.17\u001B[0m\n"
      ]
     },
     "metadata": {},
     "output_type": "display_data"
    },
    {
     "data": {
      "text/html": [
       "<pre style=\"white-space:pre;overflow-x:auto;line-height:normal;font-family:Menlo,'DejaVu Sans Mono',consolas,'Courier New',monospace\"> Jaro                <span style=\"color: #008080; text-decoration-color: #008080; font-weight: bold\">0.44</span>\n",
       "</pre>\n"
      ],
      "text/plain": [
       " Jaro                \u001B[1;36m0.44\u001B[0m\n"
      ]
     },
     "metadata": {},
     "output_type": "display_data"
    },
    {
     "data": {
      "text/html": [
       "<pre style=\"white-space:pre;overflow-x:auto;line-height:normal;font-family:Menlo,'DejaVu Sans Mono',consolas,'Courier New',monospace\"> JaroWinkler         <span style=\"color: #008080; text-decoration-color: #008080; font-weight: bold\">0.44</span>\n",
       "</pre>\n"
      ],
      "text/plain": [
       " JaroWinkler         \u001B[1;36m0.44\u001B[0m\n"
      ]
     },
     "metadata": {},
     "output_type": "display_data"
    },
    {
     "data": {
      "text/html": [
       "<pre style=\"white-space:pre;overflow-x:auto;line-height:normal;font-family:Menlo,'DejaVu Sans Mono',consolas,'Courier New',monospace\"> LCSseq              <span style=\"color: #008080; text-decoration-color: #008080; font-weight: bold\">0.17</span>\n",
       "</pre>\n"
      ],
      "text/plain": [
       " LCSseq              \u001B[1;36m0.17\u001B[0m\n"
      ]
     },
     "metadata": {},
     "output_type": "display_data"
    },
    {
     "data": {
      "text/html": [
       "<pre style=\"white-space:pre;overflow-x:auto;line-height:normal;font-family:Menlo,'DejaVu Sans Mono',consolas,'Courier New',monospace\"> Hamming             <span style=\"color: #008080; text-decoration-color: #008080; font-weight: bold\">0.17</span>\n",
       "</pre>\n"
      ],
      "text/plain": [
       " Hamming             \u001B[1;36m0.17\u001B[0m\n"
      ]
     },
     "metadata": {},
     "output_type": "display_data"
    },
    {
     "data": {
      "text/html": [
       "<pre style=\"white-space:pre;overflow-x:auto;line-height:normal;font-family:Menlo,'DejaVu Sans Mono',consolas,'Courier New',monospace\"> OSA                 <span style=\"color: #008080; text-decoration-color: #008080; font-weight: bold\">0.17</span>\n",
       "</pre>\n"
      ],
      "text/plain": [
       " OSA                 \u001B[1;36m0.17\u001B[0m\n"
      ]
     },
     "metadata": {},
     "output_type": "display_data"
    },
    {
     "data": {
      "text/html": [
       "<pre style=\"white-space:pre;overflow-x:auto;line-height:normal;font-family:Menlo,'DejaVu Sans Mono',consolas,'Courier New',monospace\"><span style=\"color: #ffffff; text-decoration-color: #ffffff; font-weight: bold\">abcdef:defghi</span>\n",
       "</pre>\n"
      ],
      "text/plain": [
       "\u001B[1;97mab\u001B[0m\u001B[1;97mcdef:def\u001B[0m\u001B[1;97mghi\u001B[0m\n"
      ]
     },
     "metadata": {},
     "output_type": "display_data"
    },
    {
     "data": {
      "text/html": [
       "<pre style=\"white-space:pre;overflow-x:auto;line-height:normal;font-family:Menlo,'DejaVu Sans Mono',consolas,'Courier New',monospace\"> Indel               <span style=\"color: #008080; text-decoration-color: #008080; font-weight: bold\">0.5</span>\n",
       "</pre>\n"
      ],
      "text/plain": [
       " Indel               \u001B[1;36m0.5\u001B[0m\n"
      ]
     },
     "metadata": {},
     "output_type": "display_data"
    },
    {
     "data": {
      "text/html": [
       "<pre style=\"white-space:pre;overflow-x:auto;line-height:normal;font-family:Menlo,'DejaVu Sans Mono',consolas,'Courier New',monospace\"> DamerauLevenshtein  <span style=\"color: #008080; text-decoration-color: #008080; font-weight: bold\">0.0</span>\n",
       "</pre>\n"
      ],
      "text/plain": [
       " DamerauLevenshtein  \u001B[1;36m0.0\u001B[0m\n"
      ]
     },
     "metadata": {},
     "output_type": "display_data"
    },
    {
     "data": {
      "text/html": [
       "<pre style=\"white-space:pre;overflow-x:auto;line-height:normal;font-family:Menlo,'DejaVu Sans Mono',consolas,'Courier New',monospace\"> Levenshtein         <span style=\"color: #008080; text-decoration-color: #008080; font-weight: bold\">0.0</span>\n",
       "</pre>\n"
      ],
      "text/plain": [
       " Levenshtein         \u001B[1;36m0.0\u001B[0m\n"
      ]
     },
     "metadata": {},
     "output_type": "display_data"
    },
    {
     "data": {
      "text/html": [
       "<pre style=\"white-space:pre;overflow-x:auto;line-height:normal;font-family:Menlo,'DejaVu Sans Mono',consolas,'Courier New',monospace\"> Jaro                <span style=\"color: #008080; text-decoration-color: #008080; font-weight: bold\">0.0</span>\n",
       "</pre>\n"
      ],
      "text/plain": [
       " Jaro                \u001B[1;36m0.0\u001B[0m\n"
      ]
     },
     "metadata": {},
     "output_type": "display_data"
    },
    {
     "data": {
      "text/html": [
       "<pre style=\"white-space:pre;overflow-x:auto;line-height:normal;font-family:Menlo,'DejaVu Sans Mono',consolas,'Courier New',monospace\"> JaroWinkler         <span style=\"color: #008080; text-decoration-color: #008080; font-weight: bold\">0.0</span>\n",
       "</pre>\n"
      ],
      "text/plain": [
       " JaroWinkler         \u001B[1;36m0.0\u001B[0m\n"
      ]
     },
     "metadata": {},
     "output_type": "display_data"
    },
    {
     "data": {
      "text/html": [
       "<pre style=\"white-space:pre;overflow-x:auto;line-height:normal;font-family:Menlo,'DejaVu Sans Mono',consolas,'Courier New',monospace\"> LCSseq              <span style=\"color: #008080; text-decoration-color: #008080; font-weight: bold\">0.5</span>\n",
       "</pre>\n"
      ],
      "text/plain": [
       " LCSseq              \u001B[1;36m0.5\u001B[0m\n"
      ]
     },
     "metadata": {},
     "output_type": "display_data"
    },
    {
     "data": {
      "text/html": [
       "<pre style=\"white-space:pre;overflow-x:auto;line-height:normal;font-family:Menlo,'DejaVu Sans Mono',consolas,'Courier New',monospace\"> Hamming             <span style=\"color: #008080; text-decoration-color: #008080; font-weight: bold\">0.0</span>\n",
       "</pre>\n"
      ],
      "text/plain": [
       " Hamming             \u001B[1;36m0.0\u001B[0m\n"
      ]
     },
     "metadata": {},
     "output_type": "display_data"
    },
    {
     "data": {
      "text/html": [
       "<pre style=\"white-space:pre;overflow-x:auto;line-height:normal;font-family:Menlo,'DejaVu Sans Mono',consolas,'Courier New',monospace\"> OSA                 <span style=\"color: #008080; text-decoration-color: #008080; font-weight: bold\">0.0</span>\n",
       "</pre>\n"
      ],
      "text/plain": [
       " OSA                 \u001B[1;36m0.0\u001B[0m\n"
      ]
     },
     "metadata": {},
     "output_type": "display_data"
    },
    {
     "data": {
      "text/html": [
       "<pre style=\"white-space:pre;overflow-x:auto;line-height:normal;font-family:Menlo,'DejaVu Sans Mono',consolas,'Courier New',monospace\"><span style=\"color: #ffffff; text-decoration-color: #ffffff; font-weight: bold\">abcdef:fedcba</span>\n",
       "</pre>\n"
      ],
      "text/plain": [
       "\u001B[1;97mab\u001B[0m\u001B[1;97mcdef:fedc\u001B[0m\u001B[1;97mba\u001B[0m\n"
      ]
     },
     "metadata": {},
     "output_type": "display_data"
    },
    {
     "data": {
      "text/html": [
       "<pre style=\"white-space:pre;overflow-x:auto;line-height:normal;font-family:Menlo,'DejaVu Sans Mono',consolas,'Courier New',monospace\"> Indel               <span style=\"color: #008080; text-decoration-color: #008080; font-weight: bold\">0.17</span>\n",
       "</pre>\n"
      ],
      "text/plain": [
       " Indel               \u001B[1;36m0.17\u001B[0m\n"
      ]
     },
     "metadata": {},
     "output_type": "display_data"
    },
    {
     "data": {
      "text/html": [
       "<pre style=\"white-space:pre;overflow-x:auto;line-height:normal;font-family:Menlo,'DejaVu Sans Mono',consolas,'Courier New',monospace\"> DamerauLevenshtein  <span style=\"color: #008080; text-decoration-color: #008080; font-weight: bold\">0.17</span>\n",
       "</pre>\n"
      ],
      "text/plain": [
       " DamerauLevenshtein  \u001B[1;36m0.17\u001B[0m\n"
      ]
     },
     "metadata": {},
     "output_type": "display_data"
    },
    {
     "data": {
      "text/html": [
       "<pre style=\"white-space:pre;overflow-x:auto;line-height:normal;font-family:Menlo,'DejaVu Sans Mono',consolas,'Courier New',monospace\"> Levenshtein         <span style=\"color: #008080; text-decoration-color: #008080; font-weight: bold\">0.0</span>\n",
       "</pre>\n"
      ],
      "text/plain": [
       " Levenshtein         \u001B[1;36m0.0\u001B[0m\n"
      ]
     },
     "metadata": {},
     "output_type": "display_data"
    },
    {
     "data": {
      "text/html": [
       "<pre style=\"white-space:pre;overflow-x:auto;line-height:normal;font-family:Menlo,'DejaVu Sans Mono',consolas,'Courier New',monospace\"> Jaro                <span style=\"color: #008080; text-decoration-color: #008080; font-weight: bold\">0.39</span>\n",
       "</pre>\n"
      ],
      "text/plain": [
       " Jaro                \u001B[1;36m0.39\u001B[0m\n"
      ]
     },
     "metadata": {},
     "output_type": "display_data"
    },
    {
     "data": {
      "text/html": [
       "<pre style=\"white-space:pre;overflow-x:auto;line-height:normal;font-family:Menlo,'DejaVu Sans Mono',consolas,'Courier New',monospace\"> JaroWinkler         <span style=\"color: #008080; text-decoration-color: #008080; font-weight: bold\">0.39</span>\n",
       "</pre>\n"
      ],
      "text/plain": [
       " JaroWinkler         \u001B[1;36m0.39\u001B[0m\n"
      ]
     },
     "metadata": {},
     "output_type": "display_data"
    },
    {
     "data": {
      "text/html": [
       "<pre style=\"white-space:pre;overflow-x:auto;line-height:normal;font-family:Menlo,'DejaVu Sans Mono',consolas,'Courier New',monospace\"> LCSseq              <span style=\"color: #008080; text-decoration-color: #008080; font-weight: bold\">0.17</span>\n",
       "</pre>\n"
      ],
      "text/plain": [
       " LCSseq              \u001B[1;36m0.17\u001B[0m\n"
      ]
     },
     "metadata": {},
     "output_type": "display_data"
    },
    {
     "data": {
      "text/html": [
       "<pre style=\"white-space:pre;overflow-x:auto;line-height:normal;font-family:Menlo,'DejaVu Sans Mono',consolas,'Courier New',monospace\"> Hamming             <span style=\"color: #008080; text-decoration-color: #008080; font-weight: bold\">0.0</span>\n",
       "</pre>\n"
      ],
      "text/plain": [
       " Hamming             \u001B[1;36m0.0\u001B[0m\n"
      ]
     },
     "metadata": {},
     "output_type": "display_data"
    },
    {
     "data": {
      "text/html": [
       "<pre style=\"white-space:pre;overflow-x:auto;line-height:normal;font-family:Menlo,'DejaVu Sans Mono',consolas,'Courier New',monospace\"> OSA                 <span style=\"color: #008080; text-decoration-color: #008080; font-weight: bold\">0.17</span>\n",
       "</pre>\n"
      ],
      "text/plain": [
       " OSA                 \u001B[1;36m0.17\u001B[0m\n"
      ]
     },
     "metadata": {},
     "output_type": "display_data"
    }
   ],
   "source": [
    "for pair in pairs:\n",
    "    print(f'[bright_white bold]{pair[0]}:{pair[1]}[/]')\n",
    "    for algo in algos:\n",
    "        try:\n",
    "            dist = getattr(distance, algo).normalized_distance(*pair)\n",
    "            # dist = round(dist, 2)\n",
    "            # print(f' {algo: <19}', dist if 'Jaro' not in algo else 1-dist)\n",
    "            print(f' {algo: <19}', round(1-dist,2))\n",
    "        except Exception as e:\n",
    "            print(' ', repr(e))"
   ]
  },
  {
   "cell_type": "code",
   "execution_count": 63,
   "id": "e2ec0a6f-fb70-4c32-a930-58cade7b09a5",
   "metadata": {},
   "outputs": [],
   "source": [
    "from rapidfuzz import fuzz"
   ]
  },
  {
   "cell_type": "code",
   "execution_count": 66,
   "id": "674368da-f026-4e08-9807-e7779e8d3e6c",
   "metadata": {},
   "outputs": [],
   "source": [
    "ratio_fns=[ratio_fn for ratio_fn in dir(fuzz) if 'ratio' in ratio_fn.lower()]"
   ]
  },
  {
   "cell_type": "code",
   "execution_count": 71,
   "id": "0f85e833-83c3-45a6-805d-e67a2db8b6ed",
   "metadata": {},
   "outputs": [
    {
     "data": {
      "text/html": [
       "<pre style=\"white-space:pre;overflow-x:auto;line-height:normal;font-family:Menlo,'DejaVu Sans Mono',consolas,'Courier New',monospace\"><span style=\"color: #ffffff; text-decoration-color: #ffffff; font-weight: bold\">lewenstein:levenshtein</span>\n",
       "</pre>\n"
      ],
      "text/plain": [
       "\u001B[1;97mlewenstein:levenshtein\u001B[0m\n"
      ]
     },
     "metadata": {},
     "output_type": "display_data"
    },
    {
     "data": {
      "text/html": [
       "<pre style=\"white-space:pre;overflow-x:auto;line-height:normal;font-family:Menlo,'DejaVu Sans Mono',consolas,'Courier New',monospace\"> QRatio                    <span style=\"color: #008080; text-decoration-color: #008080; font-weight: bold\">85.714</span>\n",
       "</pre>\n"
      ],
      "text/plain": [
       " QRatio                    \u001B[1;36m85.714\u001B[0m\n"
      ]
     },
     "metadata": {},
     "output_type": "display_data"
    },
    {
     "data": {
      "text/html": [
       "<pre style=\"white-space:pre;overflow-x:auto;line-height:normal;font-family:Menlo,'DejaVu Sans Mono',consolas,'Courier New',monospace\"> WRatio                    <span style=\"color: #008080; text-decoration-color: #008080; font-weight: bold\">85.714</span>\n",
       "</pre>\n"
      ],
      "text/plain": [
       " WRatio                    \u001B[1;36m85.714\u001B[0m\n"
      ]
     },
     "metadata": {},
     "output_type": "display_data"
    },
    {
     "data": {
      "text/html": [
       "<pre style=\"white-space:pre;overflow-x:auto;line-height:normal;font-family:Menlo,'DejaVu Sans Mono',consolas,'Courier New',monospace\"> partial_ratio             <span style=\"color: #008080; text-decoration-color: #008080; font-weight: bold\">80.0</span>\n",
       "</pre>\n"
      ],
      "text/plain": [
       " partial_ratio             \u001B[1;36m80.0\u001B[0m\n"
      ]
     },
     "metadata": {},
     "output_type": "display_data"
    },
    {
     "data": {
      "text/html": [
       "<pre style=\"white-space:pre;overflow-x:auto;line-height:normal;font-family:Menlo,'DejaVu Sans Mono',consolas,'Courier New',monospace\"> partial_ratio_alignment   <span style=\"color: #800080; text-decoration-color: #800080; font-weight: bold\">ScoreAlignment</span><span style=\"font-weight: bold\">(</span><span style=\"color: #808000; text-decoration-color: #808000\">score</span>=<span style=\"color: #008080; text-decoration-color: #008080; font-weight: bold\">80.0</span>, <span style=\"color: #808000; text-decoration-color: #808000\">src_start</span>=<span style=\"color: #008080; text-decoration-color: #008080; font-weight: bold\">0</span>, <span style=\"color: #808000; text-decoration-color: #808000\">src_end</span>=<span style=\"color: #008080; text-decoration-color: #008080; font-weight: bold\">10</span>, <span style=\"color: #808000; text-decoration-color: #808000\">dest_start</span>=<span style=\"color: #008080; text-decoration-color: #008080; font-weight: bold\">0</span>, <span style=\"color: #808000; text-decoration-color: #808000\">dest_end</span>=<span style=\"color: #008080; text-decoration-color: #008080; font-weight: bold\">10</span><span style=\"font-weight: bold\">)</span>\n",
       "</pre>\n"
      ],
      "text/plain": [
       " partial_ratio_alignment   \u001B[1;35mScoreAlignment\u001B[0m\u001B[1m(\u001B[0m\u001B[33mscore\u001B[0m=\u001B[1;36m80\u001B[0m\u001B[1;36m.0\u001B[0m, \u001B[33msrc_start\u001B[0m=\u001B[1;36m0\u001B[0m, \u001B[33msrc_end\u001B[0m=\u001B[1;36m10\u001B[0m, \u001B[33mdest_start\u001B[0m=\u001B[1;36m0\u001B[0m, \u001B[33mdest_end\u001B[0m=\u001B[1;36m10\u001B[0m\u001B[1m)\u001B[0m\n"
      ]
     },
     "metadata": {},
     "output_type": "display_data"
    },
    {
     "data": {
      "text/html": [
       "<pre style=\"white-space:pre;overflow-x:auto;line-height:normal;font-family:Menlo,'DejaVu Sans Mono',consolas,'Courier New',monospace\"> partial_token_ratio       <span style=\"color: #008080; text-decoration-color: #008080; font-weight: bold\">80.0</span>\n",
       "</pre>\n"
      ],
      "text/plain": [
       " partial_token_ratio       \u001B[1;36m80.0\u001B[0m\n"
      ]
     },
     "metadata": {},
     "output_type": "display_data"
    },
    {
     "data": {
      "text/html": [
       "<pre style=\"white-space:pre;overflow-x:auto;line-height:normal;font-family:Menlo,'DejaVu Sans Mono',consolas,'Courier New',monospace\"> partial_token_set_ratio   <span style=\"color: #008080; text-decoration-color: #008080; font-weight: bold\">80.0</span>\n",
       "</pre>\n"
      ],
      "text/plain": [
       " partial_token_set_ratio   \u001B[1;36m80.0\u001B[0m\n"
      ]
     },
     "metadata": {},
     "output_type": "display_data"
    },
    {
     "data": {
      "text/html": [
       "<pre style=\"white-space:pre;overflow-x:auto;line-height:normal;font-family:Menlo,'DejaVu Sans Mono',consolas,'Courier New',monospace\"> partial_token_sort_ratio  <span style=\"color: #008080; text-decoration-color: #008080; font-weight: bold\">80.0</span>\n",
       "</pre>\n"
      ],
      "text/plain": [
       " partial_token_sort_ratio  \u001B[1;36m80.0\u001B[0m\n"
      ]
     },
     "metadata": {},
     "output_type": "display_data"
    },
    {
     "data": {
      "text/html": [
       "<pre style=\"white-space:pre;overflow-x:auto;line-height:normal;font-family:Menlo,'DejaVu Sans Mono',consolas,'Courier New',monospace\"> ratio                     <span style=\"color: #008080; text-decoration-color: #008080; font-weight: bold\">85.714</span>\n",
       "</pre>\n"
      ],
      "text/plain": [
       " ratio                     \u001B[1;36m85.714\u001B[0m\n"
      ]
     },
     "metadata": {},
     "output_type": "display_data"
    },
    {
     "data": {
      "text/html": [
       "<pre style=\"white-space:pre;overflow-x:auto;line-height:normal;font-family:Menlo,'DejaVu Sans Mono',consolas,'Courier New',monospace\"> token_ratio               <span style=\"color: #008080; text-decoration-color: #008080; font-weight: bold\">85.714</span>\n",
       "</pre>\n"
      ],
      "text/plain": [
       " token_ratio               \u001B[1;36m85.714\u001B[0m\n"
      ]
     },
     "metadata": {},
     "output_type": "display_data"
    },
    {
     "data": {
      "text/html": [
       "<pre style=\"white-space:pre;overflow-x:auto;line-height:normal;font-family:Menlo,'DejaVu Sans Mono',consolas,'Courier New',monospace\"> token_set_ratio           <span style=\"color: #008080; text-decoration-color: #008080; font-weight: bold\">85.714</span>\n",
       "</pre>\n"
      ],
      "text/plain": [
       " token_set_ratio           \u001B[1;36m85.714\u001B[0m\n"
      ]
     },
     "metadata": {},
     "output_type": "display_data"
    },
    {
     "data": {
      "text/html": [
       "<pre style=\"white-space:pre;overflow-x:auto;line-height:normal;font-family:Menlo,'DejaVu Sans Mono',consolas,'Courier New',monospace\"> token_sort_ratio          <span style=\"color: #008080; text-decoration-color: #008080; font-weight: bold\">85.714</span>\n",
       "</pre>\n"
      ],
      "text/plain": [
       " token_sort_ratio          \u001B[1;36m85.714\u001B[0m\n"
      ]
     },
     "metadata": {},
     "output_type": "display_data"
    },
    {
     "data": {
      "text/html": [
       "<pre style=\"white-space:pre;overflow-x:auto;line-height:normal;font-family:Menlo,'DejaVu Sans Mono',consolas,'Courier New',monospace\"><span style=\"color: #ffffff; text-decoration-color: #ffffff; font-weight: bold\">crate:trace</span>\n",
       "</pre>\n"
      ],
      "text/plain": [
       "\u001B[1;97mcrate:trace\u001B[0m\n"
      ]
     },
     "metadata": {},
     "output_type": "display_data"
    },
    {
     "data": {
      "text/html": [
       "<pre style=\"white-space:pre;overflow-x:auto;line-height:normal;font-family:Menlo,'DejaVu Sans Mono',consolas,'Courier New',monospace\"> QRatio                    <span style=\"color: #008080; text-decoration-color: #008080; font-weight: bold\">60.0</span>\n",
       "</pre>\n"
      ],
      "text/plain": [
       " QRatio                    \u001B[1;36m60.0\u001B[0m\n"
      ]
     },
     "metadata": {},
     "output_type": "display_data"
    },
    {
     "data": {
      "text/html": [
       "<pre style=\"white-space:pre;overflow-x:auto;line-height:normal;font-family:Menlo,'DejaVu Sans Mono',consolas,'Courier New',monospace\"> WRatio                    <span style=\"color: #008080; text-decoration-color: #008080; font-weight: bold\">60.0</span>\n",
       "</pre>\n"
      ],
      "text/plain": [
       " WRatio                    \u001B[1;36m60.0\u001B[0m\n"
      ]
     },
     "metadata": {},
     "output_type": "display_data"
    },
    {
     "data": {
      "text/html": [
       "<pre style=\"white-space:pre;overflow-x:auto;line-height:normal;font-family:Menlo,'DejaVu Sans Mono',consolas,'Courier New',monospace\"> partial_ratio             <span style=\"color: #008080; text-decoration-color: #008080; font-weight: bold\">66.667</span>\n",
       "</pre>\n"
      ],
      "text/plain": [
       " partial_ratio             \u001B[1;36m66.667\u001B[0m\n"
      ]
     },
     "metadata": {},
     "output_type": "display_data"
    },
    {
     "data": {
      "text/html": [
       "<pre style=\"white-space:pre;overflow-x:auto;line-height:normal;font-family:Menlo,'DejaVu Sans Mono',consolas,'Courier New',monospace\"> partial_ratio_alignment   <span style=\"color: #800080; text-decoration-color: #800080; font-weight: bold\">ScoreAlignment</span><span style=\"font-weight: bold\">(</span><span style=\"color: #808000; text-decoration-color: #808000\">score</span>=<span style=\"color: #008080; text-decoration-color: #008080; font-weight: bold\">66.66666666666667</span>, <span style=\"color: #808000; text-decoration-color: #808000\">src_start</span>=<span style=\"color: #008080; text-decoration-color: #008080; font-weight: bold\">0</span>, <span style=\"color: #808000; text-decoration-color: #808000\">src_end</span>=<span style=\"color: #008080; text-decoration-color: #008080; font-weight: bold\">5</span>, <span style=\"color: #808000; text-decoration-color: #808000\">dest_start</span>=<span style=\"color: #008080; text-decoration-color: #008080; font-weight: bold\">1</span>, \n",
       "<span style=\"color: #808000; text-decoration-color: #808000\">dest_end</span>=<span style=\"color: #008080; text-decoration-color: #008080; font-weight: bold\">5</span><span style=\"font-weight: bold\">)</span>\n",
       "</pre>\n"
      ],
      "text/plain": [
       " partial_ratio_alignment   \u001B[1;35mScoreAlignment\u001B[0m\u001B[1m(\u001B[0m\u001B[33mscore\u001B[0m=\u001B[1;36m66\u001B[0m\u001B[1;36m.66666666666667\u001B[0m, \u001B[33msrc_start\u001B[0m=\u001B[1;36m0\u001B[0m, \u001B[33msrc_end\u001B[0m=\u001B[1;36m5\u001B[0m, \u001B[33mdest_start\u001B[0m=\u001B[1;36m1\u001B[0m, \n",
       "\u001B[33mdest_end\u001B[0m=\u001B[1;36m5\u001B[0m\u001B[1m)\u001B[0m\n"
      ]
     },
     "metadata": {},
     "output_type": "display_data"
    },
    {
     "data": {
      "text/html": [
       "<pre style=\"white-space:pre;overflow-x:auto;line-height:normal;font-family:Menlo,'DejaVu Sans Mono',consolas,'Courier New',monospace\"> partial_token_ratio       <span style=\"color: #008080; text-decoration-color: #008080; font-weight: bold\">66.667</span>\n",
       "</pre>\n"
      ],
      "text/plain": [
       " partial_token_ratio       \u001B[1;36m66.667\u001B[0m\n"
      ]
     },
     "metadata": {},
     "output_type": "display_data"
    },
    {
     "data": {
      "text/html": [
       "<pre style=\"white-space:pre;overflow-x:auto;line-height:normal;font-family:Menlo,'DejaVu Sans Mono',consolas,'Courier New',monospace\"> partial_token_set_ratio   <span style=\"color: #008080; text-decoration-color: #008080; font-weight: bold\">66.667</span>\n",
       "</pre>\n"
      ],
      "text/plain": [
       " partial_token_set_ratio   \u001B[1;36m66.667\u001B[0m\n"
      ]
     },
     "metadata": {},
     "output_type": "display_data"
    },
    {
     "data": {
      "text/html": [
       "<pre style=\"white-space:pre;overflow-x:auto;line-height:normal;font-family:Menlo,'DejaVu Sans Mono',consolas,'Courier New',monospace\"> partial_token_sort_ratio  <span style=\"color: #008080; text-decoration-color: #008080; font-weight: bold\">66.667</span>\n",
       "</pre>\n"
      ],
      "text/plain": [
       " partial_token_sort_ratio  \u001B[1;36m66.667\u001B[0m\n"
      ]
     },
     "metadata": {},
     "output_type": "display_data"
    },
    {
     "data": {
      "text/html": [
       "<pre style=\"white-space:pre;overflow-x:auto;line-height:normal;font-family:Menlo,'DejaVu Sans Mono',consolas,'Courier New',monospace\"> ratio                     <span style=\"color: #008080; text-decoration-color: #008080; font-weight: bold\">60.0</span>\n",
       "</pre>\n"
      ],
      "text/plain": [
       " ratio                     \u001B[1;36m60.0\u001B[0m\n"
      ]
     },
     "metadata": {},
     "output_type": "display_data"
    },
    {
     "data": {
      "text/html": [
       "<pre style=\"white-space:pre;overflow-x:auto;line-height:normal;font-family:Menlo,'DejaVu Sans Mono',consolas,'Courier New',monospace\"> token_ratio               <span style=\"color: #008080; text-decoration-color: #008080; font-weight: bold\">60.0</span>\n",
       "</pre>\n"
      ],
      "text/plain": [
       " token_ratio               \u001B[1;36m60.0\u001B[0m\n"
      ]
     },
     "metadata": {},
     "output_type": "display_data"
    },
    {
     "data": {
      "text/html": [
       "<pre style=\"white-space:pre;overflow-x:auto;line-height:normal;font-family:Menlo,'DejaVu Sans Mono',consolas,'Courier New',monospace\"> token_set_ratio           <span style=\"color: #008080; text-decoration-color: #008080; font-weight: bold\">60.0</span>\n",
       "</pre>\n"
      ],
      "text/plain": [
       " token_set_ratio           \u001B[1;36m60.0\u001B[0m\n"
      ]
     },
     "metadata": {},
     "output_type": "display_data"
    },
    {
     "data": {
      "text/html": [
       "<pre style=\"white-space:pre;overflow-x:auto;line-height:normal;font-family:Menlo,'DejaVu Sans Mono',consolas,'Courier New',monospace\"> token_sort_ratio          <span style=\"color: #008080; text-decoration-color: #008080; font-weight: bold\">60.0</span>\n",
       "</pre>\n"
      ],
      "text/plain": [
       " token_sort_ratio          \u001B[1;36m60.0\u001B[0m\n"
      ]
     },
     "metadata": {},
     "output_type": "display_data"
    },
    {
     "data": {
      "text/html": [
       "<pre style=\"white-space:pre;overflow-x:auto;line-height:normal;font-family:Menlo,'DejaVu Sans Mono',consolas,'Courier New',monospace\"><span style=\"color: #ffffff; text-decoration-color: #ffffff; font-weight: bold\">validator:validators</span>\n",
       "</pre>\n"
      ],
      "text/plain": [
       "\u001B[1;97mvalidator:validators\u001B[0m\n"
      ]
     },
     "metadata": {},
     "output_type": "display_data"
    },
    {
     "data": {
      "text/html": [
       "<pre style=\"white-space:pre;overflow-x:auto;line-height:normal;font-family:Menlo,'DejaVu Sans Mono',consolas,'Courier New',monospace\"> QRatio                    <span style=\"color: #008080; text-decoration-color: #008080; font-weight: bold\">94.737</span>\n",
       "</pre>\n"
      ],
      "text/plain": [
       " QRatio                    \u001B[1;36m94.737\u001B[0m\n"
      ]
     },
     "metadata": {},
     "output_type": "display_data"
    },
    {
     "data": {
      "text/html": [
       "<pre style=\"white-space:pre;overflow-x:auto;line-height:normal;font-family:Menlo,'DejaVu Sans Mono',consolas,'Courier New',monospace\"> WRatio                    <span style=\"color: #008080; text-decoration-color: #008080; font-weight: bold\">94.737</span>\n",
       "</pre>\n"
      ],
      "text/plain": [
       " WRatio                    \u001B[1;36m94.737\u001B[0m\n"
      ]
     },
     "metadata": {},
     "output_type": "display_data"
    },
    {
     "data": {
      "text/html": [
       "<pre style=\"white-space:pre;overflow-x:auto;line-height:normal;font-family:Menlo,'DejaVu Sans Mono',consolas,'Courier New',monospace\"> partial_ratio             <span style=\"color: #008080; text-decoration-color: #008080; font-weight: bold\">100.0</span>\n",
       "</pre>\n"
      ],
      "text/plain": [
       " partial_ratio             \u001B[1;36m100.0\u001B[0m\n"
      ]
     },
     "metadata": {},
     "output_type": "display_data"
    },
    {
     "data": {
      "text/html": [
       "<pre style=\"white-space:pre;overflow-x:auto;line-height:normal;font-family:Menlo,'DejaVu Sans Mono',consolas,'Courier New',monospace\"> partial_ratio_alignment   <span style=\"color: #800080; text-decoration-color: #800080; font-weight: bold\">ScoreAlignment</span><span style=\"font-weight: bold\">(</span><span style=\"color: #808000; text-decoration-color: #808000\">score</span>=<span style=\"color: #008080; text-decoration-color: #008080; font-weight: bold\">100.0</span>, <span style=\"color: #808000; text-decoration-color: #808000\">src_start</span>=<span style=\"color: #008080; text-decoration-color: #008080; font-weight: bold\">0</span>, <span style=\"color: #808000; text-decoration-color: #808000\">src_end</span>=<span style=\"color: #008080; text-decoration-color: #008080; font-weight: bold\">9</span>, <span style=\"color: #808000; text-decoration-color: #808000\">dest_start</span>=<span style=\"color: #008080; text-decoration-color: #008080; font-weight: bold\">0</span>, <span style=\"color: #808000; text-decoration-color: #808000\">dest_end</span>=<span style=\"color: #008080; text-decoration-color: #008080; font-weight: bold\">9</span><span style=\"font-weight: bold\">)</span>\n",
       "</pre>\n"
      ],
      "text/plain": [
       " partial_ratio_alignment   \u001B[1;35mScoreAlignment\u001B[0m\u001B[1m(\u001B[0m\u001B[33mscore\u001B[0m=\u001B[1;36m100\u001B[0m\u001B[1;36m.0\u001B[0m, \u001B[33msrc_start\u001B[0m=\u001B[1;36m0\u001B[0m, \u001B[33msrc_end\u001B[0m=\u001B[1;36m9\u001B[0m, \u001B[33mdest_start\u001B[0m=\u001B[1;36m0\u001B[0m, \u001B[33mdest_end\u001B[0m=\u001B[1;36m9\u001B[0m\u001B[1m)\u001B[0m\n"
      ]
     },
     "metadata": {},
     "output_type": "display_data"
    },
    {
     "data": {
      "text/html": [
       "<pre style=\"white-space:pre;overflow-x:auto;line-height:normal;font-family:Menlo,'DejaVu Sans Mono',consolas,'Courier New',monospace\"> partial_token_ratio       <span style=\"color: #008080; text-decoration-color: #008080; font-weight: bold\">100.0</span>\n",
       "</pre>\n"
      ],
      "text/plain": [
       " partial_token_ratio       \u001B[1;36m100.0\u001B[0m\n"
      ]
     },
     "metadata": {},
     "output_type": "display_data"
    },
    {
     "data": {
      "text/html": [
       "<pre style=\"white-space:pre;overflow-x:auto;line-height:normal;font-family:Menlo,'DejaVu Sans Mono',consolas,'Courier New',monospace\"> partial_token_set_ratio   <span style=\"color: #008080; text-decoration-color: #008080; font-weight: bold\">100.0</span>\n",
       "</pre>\n"
      ],
      "text/plain": [
       " partial_token_set_ratio   \u001B[1;36m100.0\u001B[0m\n"
      ]
     },
     "metadata": {},
     "output_type": "display_data"
    },
    {
     "data": {
      "text/html": [
       "<pre style=\"white-space:pre;overflow-x:auto;line-height:normal;font-family:Menlo,'DejaVu Sans Mono',consolas,'Courier New',monospace\"> partial_token_sort_ratio  <span style=\"color: #008080; text-decoration-color: #008080; font-weight: bold\">100.0</span>\n",
       "</pre>\n"
      ],
      "text/plain": [
       " partial_token_sort_ratio  \u001B[1;36m100.0\u001B[0m\n"
      ]
     },
     "metadata": {},
     "output_type": "display_data"
    },
    {
     "data": {
      "text/html": [
       "<pre style=\"white-space:pre;overflow-x:auto;line-height:normal;font-family:Menlo,'DejaVu Sans Mono',consolas,'Courier New',monospace\"> ratio                     <span style=\"color: #008080; text-decoration-color: #008080; font-weight: bold\">94.737</span>\n",
       "</pre>\n"
      ],
      "text/plain": [
       " ratio                     \u001B[1;36m94.737\u001B[0m\n"
      ]
     },
     "metadata": {},
     "output_type": "display_data"
    },
    {
     "data": {
      "text/html": [
       "<pre style=\"white-space:pre;overflow-x:auto;line-height:normal;font-family:Menlo,'DejaVu Sans Mono',consolas,'Courier New',monospace\"> token_ratio               <span style=\"color: #008080; text-decoration-color: #008080; font-weight: bold\">94.737</span>\n",
       "</pre>\n"
      ],
      "text/plain": [
       " token_ratio               \u001B[1;36m94.737\u001B[0m\n"
      ]
     },
     "metadata": {},
     "output_type": "display_data"
    },
    {
     "data": {
      "text/html": [
       "<pre style=\"white-space:pre;overflow-x:auto;line-height:normal;font-family:Menlo,'DejaVu Sans Mono',consolas,'Courier New',monospace\"> token_set_ratio           <span style=\"color: #008080; text-decoration-color: #008080; font-weight: bold\">94.737</span>\n",
       "</pre>\n"
      ],
      "text/plain": [
       " token_set_ratio           \u001B[1;36m94.737\u001B[0m\n"
      ]
     },
     "metadata": {},
     "output_type": "display_data"
    },
    {
     "data": {
      "text/html": [
       "<pre style=\"white-space:pre;overflow-x:auto;line-height:normal;font-family:Menlo,'DejaVu Sans Mono',consolas,'Courier New',monospace\"> token_sort_ratio          <span style=\"color: #008080; text-decoration-color: #008080; font-weight: bold\">94.737</span>\n",
       "</pre>\n"
      ],
      "text/plain": [
       " token_sort_ratio          \u001B[1;36m94.737\u001B[0m\n"
      ]
     },
     "metadata": {},
     "output_type": "display_data"
    },
    {
     "data": {
      "text/html": [
       "<pre style=\"white-space:pre;overflow-x:auto;line-height:normal;font-family:Menlo,'DejaVu Sans Mono',consolas,'Courier New',monospace\"><span style=\"color: #ffffff; text-decoration-color: #ffffff; font-weight: bold\">validators:field</span>\n",
       "</pre>\n"
      ],
      "text/plain": [
       "\u001B[1;97mvalidators:field\u001B[0m\n"
      ]
     },
     "metadata": {},
     "output_type": "display_data"
    },
    {
     "data": {
      "text/html": [
       "<pre style=\"white-space:pre;overflow-x:auto;line-height:normal;font-family:Menlo,'DejaVu Sans Mono',consolas,'Courier New',monospace\"> QRatio                    <span style=\"color: #008080; text-decoration-color: #008080; font-weight: bold\">26.667</span>\n",
       "</pre>\n"
      ],
      "text/plain": [
       " QRatio                    \u001B[1;36m26.667\u001B[0m\n"
      ]
     },
     "metadata": {},
     "output_type": "display_data"
    },
    {
     "data": {
      "text/html": [
       "<pre style=\"white-space:pre;overflow-x:auto;line-height:normal;font-family:Menlo,'DejaVu Sans Mono',consolas,'Courier New',monospace\"> WRatio                    <span style=\"color: #008080; text-decoration-color: #008080; font-weight: bold\">36.0</span>\n",
       "</pre>\n"
      ],
      "text/plain": [
       " WRatio                    \u001B[1;36m36.0\u001B[0m\n"
      ]
     },
     "metadata": {},
     "output_type": "display_data"
    },
    {
     "data": {
      "text/html": [
       "<pre style=\"white-space:pre;overflow-x:auto;line-height:normal;font-family:Menlo,'DejaVu Sans Mono',consolas,'Courier New',monospace\"> partial_ratio             <span style=\"color: #008080; text-decoration-color: #008080; font-weight: bold\">40.0</span>\n",
       "</pre>\n"
      ],
      "text/plain": [
       " partial_ratio             \u001B[1;36m40.0\u001B[0m\n"
      ]
     },
     "metadata": {},
     "output_type": "display_data"
    },
    {
     "data": {
      "text/html": [
       "<pre style=\"white-space:pre;overflow-x:auto;line-height:normal;font-family:Menlo,'DejaVu Sans Mono',consolas,'Courier New',monospace\"> partial_ratio_alignment   <span style=\"color: #800080; text-decoration-color: #800080; font-weight: bold\">ScoreAlignment</span><span style=\"font-weight: bold\">(</span><span style=\"color: #808000; text-decoration-color: #808000\">score</span>=<span style=\"color: #008080; text-decoration-color: #008080; font-weight: bold\">40.0</span>, <span style=\"color: #808000; text-decoration-color: #808000\">src_start</span>=<span style=\"color: #008080; text-decoration-color: #008080; font-weight: bold\">0</span>, <span style=\"color: #808000; text-decoration-color: #808000\">src_end</span>=<span style=\"color: #008080; text-decoration-color: #008080; font-weight: bold\">5</span>, <span style=\"color: #808000; text-decoration-color: #808000\">dest_start</span>=<span style=\"color: #008080; text-decoration-color: #008080; font-weight: bold\">0</span>, <span style=\"color: #808000; text-decoration-color: #808000\">dest_end</span>=<span style=\"color: #008080; text-decoration-color: #008080; font-weight: bold\">5</span><span style=\"font-weight: bold\">)</span>\n",
       "</pre>\n"
      ],
      "text/plain": [
       " partial_ratio_alignment   \u001B[1;35mScoreAlignment\u001B[0m\u001B[1m(\u001B[0m\u001B[33mscore\u001B[0m=\u001B[1;36m40\u001B[0m\u001B[1;36m.0\u001B[0m, \u001B[33msrc_start\u001B[0m=\u001B[1;36m0\u001B[0m, \u001B[33msrc_end\u001B[0m=\u001B[1;36m5\u001B[0m, \u001B[33mdest_start\u001B[0m=\u001B[1;36m0\u001B[0m, \u001B[33mdest_end\u001B[0m=\u001B[1;36m5\u001B[0m\u001B[1m)\u001B[0m\n"
      ]
     },
     "metadata": {},
     "output_type": "display_data"
    },
    {
     "data": {
      "text/html": [
       "<pre style=\"white-space:pre;overflow-x:auto;line-height:normal;font-family:Menlo,'DejaVu Sans Mono',consolas,'Courier New',monospace\"> partial_token_ratio       <span style=\"color: #008080; text-decoration-color: #008080; font-weight: bold\">40.0</span>\n",
       "</pre>\n"
      ],
      "text/plain": [
       " partial_token_ratio       \u001B[1;36m40.0\u001B[0m\n"
      ]
     },
     "metadata": {},
     "output_type": "display_data"
    },
    {
     "data": {
      "text/html": [
       "<pre style=\"white-space:pre;overflow-x:auto;line-height:normal;font-family:Menlo,'DejaVu Sans Mono',consolas,'Courier New',monospace\"> partial_token_set_ratio   <span style=\"color: #008080; text-decoration-color: #008080; font-weight: bold\">40.0</span>\n",
       "</pre>\n"
      ],
      "text/plain": [
       " partial_token_set_ratio   \u001B[1;36m40.0\u001B[0m\n"
      ]
     },
     "metadata": {},
     "output_type": "display_data"
    },
    {
     "data": {
      "text/html": [
       "<pre style=\"white-space:pre;overflow-x:auto;line-height:normal;font-family:Menlo,'DejaVu Sans Mono',consolas,'Courier New',monospace\"> partial_token_sort_ratio  <span style=\"color: #008080; text-decoration-color: #008080; font-weight: bold\">40.0</span>\n",
       "</pre>\n"
      ],
      "text/plain": [
       " partial_token_sort_ratio  \u001B[1;36m40.0\u001B[0m\n"
      ]
     },
     "metadata": {},
     "output_type": "display_data"
    },
    {
     "data": {
      "text/html": [
       "<pre style=\"white-space:pre;overflow-x:auto;line-height:normal;font-family:Menlo,'DejaVu Sans Mono',consolas,'Courier New',monospace\"> ratio                     <span style=\"color: #008080; text-decoration-color: #008080; font-weight: bold\">26.667</span>\n",
       "</pre>\n"
      ],
      "text/plain": [
       " ratio                     \u001B[1;36m26.667\u001B[0m\n"
      ]
     },
     "metadata": {},
     "output_type": "display_data"
    },
    {
     "data": {
      "text/html": [
       "<pre style=\"white-space:pre;overflow-x:auto;line-height:normal;font-family:Menlo,'DejaVu Sans Mono',consolas,'Courier New',monospace\"> token_ratio               <span style=\"color: #008080; text-decoration-color: #008080; font-weight: bold\">26.667</span>\n",
       "</pre>\n"
      ],
      "text/plain": [
       " token_ratio               \u001B[1;36m26.667\u001B[0m\n"
      ]
     },
     "metadata": {},
     "output_type": "display_data"
    },
    {
     "data": {
      "text/html": [
       "<pre style=\"white-space:pre;overflow-x:auto;line-height:normal;font-family:Menlo,'DejaVu Sans Mono',consolas,'Courier New',monospace\"> token_set_ratio           <span style=\"color: #008080; text-decoration-color: #008080; font-weight: bold\">26.667</span>\n",
       "</pre>\n"
      ],
      "text/plain": [
       " token_set_ratio           \u001B[1;36m26.667\u001B[0m\n"
      ]
     },
     "metadata": {},
     "output_type": "display_data"
    },
    {
     "data": {
      "text/html": [
       "<pre style=\"white-space:pre;overflow-x:auto;line-height:normal;font-family:Menlo,'DejaVu Sans Mono',consolas,'Courier New',monospace\"> token_sort_ratio          <span style=\"color: #008080; text-decoration-color: #008080; font-weight: bold\">26.667</span>\n",
       "</pre>\n"
      ],
      "text/plain": [
       " token_sort_ratio          \u001B[1;36m26.667\u001B[0m\n"
      ]
     },
     "metadata": {},
     "output_type": "display_data"
    },
    {
     "data": {
      "text/html": [
       "<pre style=\"white-space:pre;overflow-x:auto;line-height:normal;font-family:Menlo,'DejaVu Sans Mono',consolas,'Courier New',monospace\"><span style=\"color: #ffffff; text-decoration-color: #ffffff; font-weight: bold\">validators:config</span>\n",
       "</pre>\n"
      ],
      "text/plain": [
       "\u001B[1;97mvalidators:config\u001B[0m\n"
      ]
     },
     "metadata": {},
     "output_type": "display_data"
    },
    {
     "data": {
      "text/html": [
       "<pre style=\"white-space:pre;overflow-x:auto;line-height:normal;font-family:Menlo,'DejaVu Sans Mono',consolas,'Courier New',monospace\"> QRatio                    <span style=\"color: #008080; text-decoration-color: #008080; font-weight: bold\">12.5</span>\n",
       "</pre>\n"
      ],
      "text/plain": [
       " QRatio                    \u001B[1;36m12.5\u001B[0m\n"
      ]
     },
     "metadata": {},
     "output_type": "display_data"
    },
    {
     "data": {
      "text/html": [
       "<pre style=\"white-space:pre;overflow-x:auto;line-height:normal;font-family:Menlo,'DejaVu Sans Mono',consolas,'Courier New',monospace\"> WRatio                    <span style=\"color: #008080; text-decoration-color: #008080; font-weight: bold\">20.0</span>\n",
       "</pre>\n"
      ],
      "text/plain": [
       " WRatio                    \u001B[1;36m20.0\u001B[0m\n"
      ]
     },
     "metadata": {},
     "output_type": "display_data"
    },
    {
     "data": {
      "text/html": [
       "<pre style=\"white-space:pre;overflow-x:auto;line-height:normal;font-family:Menlo,'DejaVu Sans Mono',consolas,'Courier New',monospace\"> partial_ratio             <span style=\"color: #008080; text-decoration-color: #008080; font-weight: bold\">22.222</span>\n",
       "</pre>\n"
      ],
      "text/plain": [
       " partial_ratio             \u001B[1;36m22.222\u001B[0m\n"
      ]
     },
     "metadata": {},
     "output_type": "display_data"
    },
    {
     "data": {
      "text/html": [
       "<pre style=\"white-space:pre;overflow-x:auto;line-height:normal;font-family:Menlo,'DejaVu Sans Mono',consolas,'Courier New',monospace\"> partial_ratio_alignment   <span style=\"color: #800080; text-decoration-color: #800080; font-weight: bold\">ScoreAlignment</span><span style=\"font-weight: bold\">(</span><span style=\"color: #808000; text-decoration-color: #808000\">score</span>=<span style=\"color: #008080; text-decoration-color: #008080; font-weight: bold\">22.22222222222222</span>, <span style=\"color: #808000; text-decoration-color: #808000\">src_start</span>=<span style=\"color: #008080; text-decoration-color: #008080; font-weight: bold\">7</span>, <span style=\"color: #808000; text-decoration-color: #808000\">src_end</span>=<span style=\"color: #008080; text-decoration-color: #008080; font-weight: bold\">10</span>, <span style=\"color: #808000; text-decoration-color: #808000\">dest_start</span>=<span style=\"color: #008080; text-decoration-color: #008080; font-weight: bold\">0</span>, \n",
       "<span style=\"color: #808000; text-decoration-color: #808000\">dest_end</span>=<span style=\"color: #008080; text-decoration-color: #008080; font-weight: bold\">6</span><span style=\"font-weight: bold\">)</span>\n",
       "</pre>\n"
      ],
      "text/plain": [
       " partial_ratio_alignment   \u001B[1;35mScoreAlignment\u001B[0m\u001B[1m(\u001B[0m\u001B[33mscore\u001B[0m=\u001B[1;36m22\u001B[0m\u001B[1;36m.22222222222222\u001B[0m, \u001B[33msrc_start\u001B[0m=\u001B[1;36m7\u001B[0m, \u001B[33msrc_end\u001B[0m=\u001B[1;36m10\u001B[0m, \u001B[33mdest_start\u001B[0m=\u001B[1;36m0\u001B[0m, \n",
       "\u001B[33mdest_end\u001B[0m=\u001B[1;36m6\u001B[0m\u001B[1m)\u001B[0m\n"
      ]
     },
     "metadata": {},
     "output_type": "display_data"
    },
    {
     "data": {
      "text/html": [
       "<pre style=\"white-space:pre;overflow-x:auto;line-height:normal;font-family:Menlo,'DejaVu Sans Mono',consolas,'Courier New',monospace\"> partial_token_ratio       <span style=\"color: #008080; text-decoration-color: #008080; font-weight: bold\">22.222</span>\n",
       "</pre>\n"
      ],
      "text/plain": [
       " partial_token_ratio       \u001B[1;36m22.222\u001B[0m\n"
      ]
     },
     "metadata": {},
     "output_type": "display_data"
    },
    {
     "data": {
      "text/html": [
       "<pre style=\"white-space:pre;overflow-x:auto;line-height:normal;font-family:Menlo,'DejaVu Sans Mono',consolas,'Courier New',monospace\"> partial_token_set_ratio   <span style=\"color: #008080; text-decoration-color: #008080; font-weight: bold\">22.222</span>\n",
       "</pre>\n"
      ],
      "text/plain": [
       " partial_token_set_ratio   \u001B[1;36m22.222\u001B[0m\n"
      ]
     },
     "metadata": {},
     "output_type": "display_data"
    },
    {
     "data": {
      "text/html": [
       "<pre style=\"white-space:pre;overflow-x:auto;line-height:normal;font-family:Menlo,'DejaVu Sans Mono',consolas,'Courier New',monospace\"> partial_token_sort_ratio  <span style=\"color: #008080; text-decoration-color: #008080; font-weight: bold\">22.222</span>\n",
       "</pre>\n"
      ],
      "text/plain": [
       " partial_token_sort_ratio  \u001B[1;36m22.222\u001B[0m\n"
      ]
     },
     "metadata": {},
     "output_type": "display_data"
    },
    {
     "data": {
      "text/html": [
       "<pre style=\"white-space:pre;overflow-x:auto;line-height:normal;font-family:Menlo,'DejaVu Sans Mono',consolas,'Courier New',monospace\"> ratio                     <span style=\"color: #008080; text-decoration-color: #008080; font-weight: bold\">12.5</span>\n",
       "</pre>\n"
      ],
      "text/plain": [
       " ratio                     \u001B[1;36m12.5\u001B[0m\n"
      ]
     },
     "metadata": {},
     "output_type": "display_data"
    },
    {
     "data": {
      "text/html": [
       "<pre style=\"white-space:pre;overflow-x:auto;line-height:normal;font-family:Menlo,'DejaVu Sans Mono',consolas,'Courier New',monospace\"> token_ratio               <span style=\"color: #008080; text-decoration-color: #008080; font-weight: bold\">12.5</span>\n",
       "</pre>\n"
      ],
      "text/plain": [
       " token_ratio               \u001B[1;36m12.5\u001B[0m\n"
      ]
     },
     "metadata": {},
     "output_type": "display_data"
    },
    {
     "data": {
      "text/html": [
       "<pre style=\"white-space:pre;overflow-x:auto;line-height:normal;font-family:Menlo,'DejaVu Sans Mono',consolas,'Courier New',monospace\"> token_set_ratio           <span style=\"color: #008080; text-decoration-color: #008080; font-weight: bold\">12.5</span>\n",
       "</pre>\n"
      ],
      "text/plain": [
       " token_set_ratio           \u001B[1;36m12.5\u001B[0m\n"
      ]
     },
     "metadata": {},
     "output_type": "display_data"
    },
    {
     "data": {
      "text/html": [
       "<pre style=\"white-space:pre;overflow-x:auto;line-height:normal;font-family:Menlo,'DejaVu Sans Mono',consolas,'Courier New',monospace\"> token_sort_ratio          <span style=\"color: #008080; text-decoration-color: #008080; font-weight: bold\">12.5</span>\n",
       "</pre>\n"
      ],
      "text/plain": [
       " token_sort_ratio          \u001B[1;36m12.5\u001B[0m\n"
      ]
     },
     "metadata": {},
     "output_type": "display_data"
    },
    {
     "data": {
      "text/html": [
       "<pre style=\"white-space:pre;overflow-x:auto;line-height:normal;font-family:Menlo,'DejaVu Sans Mono',consolas,'Courier New',monospace\"><span style=\"color: #ffffff; text-decoration-color: #ffffff; font-weight: bold\">same:same</span>\n",
       "</pre>\n"
      ],
      "text/plain": [
       "\u001B[1;97msame:same\u001B[0m\n"
      ]
     },
     "metadata": {},
     "output_type": "display_data"
    },
    {
     "data": {
      "text/html": [
       "<pre style=\"white-space:pre;overflow-x:auto;line-height:normal;font-family:Menlo,'DejaVu Sans Mono',consolas,'Courier New',monospace\"> QRatio                    <span style=\"color: #008080; text-decoration-color: #008080; font-weight: bold\">100.0</span>\n",
       "</pre>\n"
      ],
      "text/plain": [
       " QRatio                    \u001B[1;36m100.0\u001B[0m\n"
      ]
     },
     "metadata": {},
     "output_type": "display_data"
    },
    {
     "data": {
      "text/html": [
       "<pre style=\"white-space:pre;overflow-x:auto;line-height:normal;font-family:Menlo,'DejaVu Sans Mono',consolas,'Courier New',monospace\"> WRatio                    <span style=\"color: #008080; text-decoration-color: #008080; font-weight: bold\">100.0</span>\n",
       "</pre>\n"
      ],
      "text/plain": [
       " WRatio                    \u001B[1;36m100.0\u001B[0m\n"
      ]
     },
     "metadata": {},
     "output_type": "display_data"
    },
    {
     "data": {
      "text/html": [
       "<pre style=\"white-space:pre;overflow-x:auto;line-height:normal;font-family:Menlo,'DejaVu Sans Mono',consolas,'Courier New',monospace\"> partial_ratio             <span style=\"color: #008080; text-decoration-color: #008080; font-weight: bold\">100.0</span>\n",
       "</pre>\n"
      ],
      "text/plain": [
       " partial_ratio             \u001B[1;36m100.0\u001B[0m\n"
      ]
     },
     "metadata": {},
     "output_type": "display_data"
    },
    {
     "data": {
      "text/html": [
       "<pre style=\"white-space:pre;overflow-x:auto;line-height:normal;font-family:Menlo,'DejaVu Sans Mono',consolas,'Courier New',monospace\"> partial_ratio_alignment   <span style=\"color: #800080; text-decoration-color: #800080; font-weight: bold\">ScoreAlignment</span><span style=\"font-weight: bold\">(</span><span style=\"color: #808000; text-decoration-color: #808000\">score</span>=<span style=\"color: #008080; text-decoration-color: #008080; font-weight: bold\">100.0</span>, <span style=\"color: #808000; text-decoration-color: #808000\">src_start</span>=<span style=\"color: #008080; text-decoration-color: #008080; font-weight: bold\">0</span>, <span style=\"color: #808000; text-decoration-color: #808000\">src_end</span>=<span style=\"color: #008080; text-decoration-color: #008080; font-weight: bold\">4</span>, <span style=\"color: #808000; text-decoration-color: #808000\">dest_start</span>=<span style=\"color: #008080; text-decoration-color: #008080; font-weight: bold\">0</span>, <span style=\"color: #808000; text-decoration-color: #808000\">dest_end</span>=<span style=\"color: #008080; text-decoration-color: #008080; font-weight: bold\">4</span><span style=\"font-weight: bold\">)</span>\n",
       "</pre>\n"
      ],
      "text/plain": [
       " partial_ratio_alignment   \u001B[1;35mScoreAlignment\u001B[0m\u001B[1m(\u001B[0m\u001B[33mscore\u001B[0m=\u001B[1;36m100\u001B[0m\u001B[1;36m.0\u001B[0m, \u001B[33msrc_start\u001B[0m=\u001B[1;36m0\u001B[0m, \u001B[33msrc_end\u001B[0m=\u001B[1;36m4\u001B[0m, \u001B[33mdest_start\u001B[0m=\u001B[1;36m0\u001B[0m, \u001B[33mdest_end\u001B[0m=\u001B[1;36m4\u001B[0m\u001B[1m)\u001B[0m\n"
      ]
     },
     "metadata": {},
     "output_type": "display_data"
    },
    {
     "data": {
      "text/html": [
       "<pre style=\"white-space:pre;overflow-x:auto;line-height:normal;font-family:Menlo,'DejaVu Sans Mono',consolas,'Courier New',monospace\"> partial_token_ratio       <span style=\"color: #008080; text-decoration-color: #008080; font-weight: bold\">100.0</span>\n",
       "</pre>\n"
      ],
      "text/plain": [
       " partial_token_ratio       \u001B[1;36m100.0\u001B[0m\n"
      ]
     },
     "metadata": {},
     "output_type": "display_data"
    },
    {
     "data": {
      "text/html": [
       "<pre style=\"white-space:pre;overflow-x:auto;line-height:normal;font-family:Menlo,'DejaVu Sans Mono',consolas,'Courier New',monospace\"> partial_token_set_ratio   <span style=\"color: #008080; text-decoration-color: #008080; font-weight: bold\">100.0</span>\n",
       "</pre>\n"
      ],
      "text/plain": [
       " partial_token_set_ratio   \u001B[1;36m100.0\u001B[0m\n"
      ]
     },
     "metadata": {},
     "output_type": "display_data"
    },
    {
     "data": {
      "text/html": [
       "<pre style=\"white-space:pre;overflow-x:auto;line-height:normal;font-family:Menlo,'DejaVu Sans Mono',consolas,'Courier New',monospace\"> partial_token_sort_ratio  <span style=\"color: #008080; text-decoration-color: #008080; font-weight: bold\">100.0</span>\n",
       "</pre>\n"
      ],
      "text/plain": [
       " partial_token_sort_ratio  \u001B[1;36m100.0\u001B[0m\n"
      ]
     },
     "metadata": {},
     "output_type": "display_data"
    },
    {
     "data": {
      "text/html": [
       "<pre style=\"white-space:pre;overflow-x:auto;line-height:normal;font-family:Menlo,'DejaVu Sans Mono',consolas,'Courier New',monospace\"> ratio                     <span style=\"color: #008080; text-decoration-color: #008080; font-weight: bold\">100.0</span>\n",
       "</pre>\n"
      ],
      "text/plain": [
       " ratio                     \u001B[1;36m100.0\u001B[0m\n"
      ]
     },
     "metadata": {},
     "output_type": "display_data"
    },
    {
     "data": {
      "text/html": [
       "<pre style=\"white-space:pre;overflow-x:auto;line-height:normal;font-family:Menlo,'DejaVu Sans Mono',consolas,'Courier New',monospace\"> token_ratio               <span style=\"color: #008080; text-decoration-color: #008080; font-weight: bold\">100.0</span>\n",
       "</pre>\n"
      ],
      "text/plain": [
       " token_ratio               \u001B[1;36m100.0\u001B[0m\n"
      ]
     },
     "metadata": {},
     "output_type": "display_data"
    },
    {
     "data": {
      "text/html": [
       "<pre style=\"white-space:pre;overflow-x:auto;line-height:normal;font-family:Menlo,'DejaVu Sans Mono',consolas,'Courier New',monospace\"> token_set_ratio           <span style=\"color: #008080; text-decoration-color: #008080; font-weight: bold\">100.0</span>\n",
       "</pre>\n"
      ],
      "text/plain": [
       " token_set_ratio           \u001B[1;36m100.0\u001B[0m\n"
      ]
     },
     "metadata": {},
     "output_type": "display_data"
    },
    {
     "data": {
      "text/html": [
       "<pre style=\"white-space:pre;overflow-x:auto;line-height:normal;font-family:Menlo,'DejaVu Sans Mono',consolas,'Courier New',monospace\"> token_sort_ratio          <span style=\"color: #008080; text-decoration-color: #008080; font-weight: bold\">100.0</span>\n",
       "</pre>\n"
      ],
      "text/plain": [
       " token_sort_ratio          \u001B[1;36m100.0\u001B[0m\n"
      ]
     },
     "metadata": {},
     "output_type": "display_data"
    },
    {
     "data": {
      "text/html": [
       "<pre style=\"white-space:pre;overflow-x:auto;line-height:normal;font-family:Menlo,'DejaVu Sans Mono',consolas,'Courier New',monospace\"><span style=\"color: #ffffff; text-decoration-color: #ffffff; font-weight: bold\">abcdef:ahijkl</span>\n",
       "</pre>\n"
      ],
      "text/plain": [
       "\u001B[1;97mab\u001B[0m\u001B[1;97mcdef:a\u001B[0m\u001B[1;97mhijkl\u001B[0m\n"
      ]
     },
     "metadata": {},
     "output_type": "display_data"
    },
    {
     "data": {
      "text/html": [
       "<pre style=\"white-space:pre;overflow-x:auto;line-height:normal;font-family:Menlo,'DejaVu Sans Mono',consolas,'Courier New',monospace\"> QRatio                    <span style=\"color: #008080; text-decoration-color: #008080; font-weight: bold\">16.667</span>\n",
       "</pre>\n"
      ],
      "text/plain": [
       " QRatio                    \u001B[1;36m16.667\u001B[0m\n"
      ]
     },
     "metadata": {},
     "output_type": "display_data"
    },
    {
     "data": {
      "text/html": [
       "<pre style=\"white-space:pre;overflow-x:auto;line-height:normal;font-family:Menlo,'DejaVu Sans Mono',consolas,'Courier New',monospace\"> WRatio                    <span style=\"color: #008080; text-decoration-color: #008080; font-weight: bold\">16.667</span>\n",
       "</pre>\n"
      ],
      "text/plain": [
       " WRatio                    \u001B[1;36m16.667\u001B[0m\n"
      ]
     },
     "metadata": {},
     "output_type": "display_data"
    },
    {
     "data": {
      "text/html": [
       "<pre style=\"white-space:pre;overflow-x:auto;line-height:normal;font-family:Menlo,'DejaVu Sans Mono',consolas,'Courier New',monospace\"> partial_ratio             <span style=\"color: #008080; text-decoration-color: #008080; font-weight: bold\">28.571</span>\n",
       "</pre>\n"
      ],
      "text/plain": [
       " partial_ratio             \u001B[1;36m28.571\u001B[0m\n"
      ]
     },
     "metadata": {},
     "output_type": "display_data"
    },
    {
     "data": {
      "text/html": [
       "<pre style=\"white-space:pre;overflow-x:auto;line-height:normal;font-family:Menlo,'DejaVu Sans Mono',consolas,'Courier New',monospace\"> partial_ratio_alignment   <span style=\"color: #800080; text-decoration-color: #800080; font-weight: bold\">ScoreAlignment</span><span style=\"font-weight: bold\">(</span><span style=\"color: #808000; text-decoration-color: #808000\">score</span>=<span style=\"color: #008080; text-decoration-color: #008080; font-weight: bold\">28.57142857142857</span>, <span style=\"color: #808000; text-decoration-color: #808000\">src_start</span>=<span style=\"color: #008080; text-decoration-color: #008080; font-weight: bold\">0</span>, <span style=\"color: #808000; text-decoration-color: #808000\">src_end</span>=<span style=\"color: #008080; text-decoration-color: #008080; font-weight: bold\">6</span>, <span style=\"color: #808000; text-decoration-color: #808000\">dest_start</span>=<span style=\"color: #008080; text-decoration-color: #008080; font-weight: bold\">0</span>, \n",
       "<span style=\"color: #808000; text-decoration-color: #808000\">dest_end</span>=<span style=\"color: #008080; text-decoration-color: #008080; font-weight: bold\">1</span><span style=\"font-weight: bold\">)</span>\n",
       "</pre>\n"
      ],
      "text/plain": [
       " partial_ratio_alignment   \u001B[1;35mScoreAlignment\u001B[0m\u001B[1m(\u001B[0m\u001B[33mscore\u001B[0m=\u001B[1;36m28\u001B[0m\u001B[1;36m.57142857142857\u001B[0m, \u001B[33msrc_start\u001B[0m=\u001B[1;36m0\u001B[0m, \u001B[33msrc_end\u001B[0m=\u001B[1;36m6\u001B[0m, \u001B[33mdest_start\u001B[0m=\u001B[1;36m0\u001B[0m, \n",
       "\u001B[33mdest_end\u001B[0m=\u001B[1;36m1\u001B[0m\u001B[1m)\u001B[0m\n"
      ]
     },
     "metadata": {},
     "output_type": "display_data"
    },
    {
     "data": {
      "text/html": [
       "<pre style=\"white-space:pre;overflow-x:auto;line-height:normal;font-family:Menlo,'DejaVu Sans Mono',consolas,'Courier New',monospace\"> partial_token_ratio       <span style=\"color: #008080; text-decoration-color: #008080; font-weight: bold\">28.571</span>\n",
       "</pre>\n"
      ],
      "text/plain": [
       " partial_token_ratio       \u001B[1;36m28.571\u001B[0m\n"
      ]
     },
     "metadata": {},
     "output_type": "display_data"
    },
    {
     "data": {
      "text/html": [
       "<pre style=\"white-space:pre;overflow-x:auto;line-height:normal;font-family:Menlo,'DejaVu Sans Mono',consolas,'Courier New',monospace\"> partial_token_set_ratio   <span style=\"color: #008080; text-decoration-color: #008080; font-weight: bold\">28.571</span>\n",
       "</pre>\n"
      ],
      "text/plain": [
       " partial_token_set_ratio   \u001B[1;36m28.571\u001B[0m\n"
      ]
     },
     "metadata": {},
     "output_type": "display_data"
    },
    {
     "data": {
      "text/html": [
       "<pre style=\"white-space:pre;overflow-x:auto;line-height:normal;font-family:Menlo,'DejaVu Sans Mono',consolas,'Courier New',monospace\"> partial_token_sort_ratio  <span style=\"color: #008080; text-decoration-color: #008080; font-weight: bold\">28.571</span>\n",
       "</pre>\n"
      ],
      "text/plain": [
       " partial_token_sort_ratio  \u001B[1;36m28.571\u001B[0m\n"
      ]
     },
     "metadata": {},
     "output_type": "display_data"
    },
    {
     "data": {
      "text/html": [
       "<pre style=\"white-space:pre;overflow-x:auto;line-height:normal;font-family:Menlo,'DejaVu Sans Mono',consolas,'Courier New',monospace\"> ratio                     <span style=\"color: #008080; text-decoration-color: #008080; font-weight: bold\">16.667</span>\n",
       "</pre>\n"
      ],
      "text/plain": [
       " ratio                     \u001B[1;36m16.667\u001B[0m\n"
      ]
     },
     "metadata": {},
     "output_type": "display_data"
    },
    {
     "data": {
      "text/html": [
       "<pre style=\"white-space:pre;overflow-x:auto;line-height:normal;font-family:Menlo,'DejaVu Sans Mono',consolas,'Courier New',monospace\"> token_ratio               <span style=\"color: #008080; text-decoration-color: #008080; font-weight: bold\">16.667</span>\n",
       "</pre>\n"
      ],
      "text/plain": [
       " token_ratio               \u001B[1;36m16.667\u001B[0m\n"
      ]
     },
     "metadata": {},
     "output_type": "display_data"
    },
    {
     "data": {
      "text/html": [
       "<pre style=\"white-space:pre;overflow-x:auto;line-height:normal;font-family:Menlo,'DejaVu Sans Mono',consolas,'Courier New',monospace\"> token_set_ratio           <span style=\"color: #008080; text-decoration-color: #008080; font-weight: bold\">16.667</span>\n",
       "</pre>\n"
      ],
      "text/plain": [
       " token_set_ratio           \u001B[1;36m16.667\u001B[0m\n"
      ]
     },
     "metadata": {},
     "output_type": "display_data"
    },
    {
     "data": {
      "text/html": [
       "<pre style=\"white-space:pre;overflow-x:auto;line-height:normal;font-family:Menlo,'DejaVu Sans Mono',consolas,'Courier New',monospace\"> token_sort_ratio          <span style=\"color: #008080; text-decoration-color: #008080; font-weight: bold\">16.667</span>\n",
       "</pre>\n"
      ],
      "text/plain": [
       " token_sort_ratio          \u001B[1;36m16.667\u001B[0m\n"
      ]
     },
     "metadata": {},
     "output_type": "display_data"
    },
    {
     "data": {
      "text/html": [
       "<pre style=\"white-space:pre;overflow-x:auto;line-height:normal;font-family:Menlo,'DejaVu Sans Mono',consolas,'Courier New',monospace\"><span style=\"color: #ffffff; text-decoration-color: #ffffff; font-weight: bold\">abcdef:defghi</span>\n",
       "</pre>\n"
      ],
      "text/plain": [
       "\u001B[1;97mab\u001B[0m\u001B[1;97mcdef:def\u001B[0m\u001B[1;97mghi\u001B[0m\n"
      ]
     },
     "metadata": {},
     "output_type": "display_data"
    },
    {
     "data": {
      "text/html": [
       "<pre style=\"white-space:pre;overflow-x:auto;line-height:normal;font-family:Menlo,'DejaVu Sans Mono',consolas,'Courier New',monospace\"> QRatio                    <span style=\"color: #008080; text-decoration-color: #008080; font-weight: bold\">50.0</span>\n",
       "</pre>\n"
      ],
      "text/plain": [
       " QRatio                    \u001B[1;36m50.0\u001B[0m\n"
      ]
     },
     "metadata": {},
     "output_type": "display_data"
    },
    {
     "data": {
      "text/html": [
       "<pre style=\"white-space:pre;overflow-x:auto;line-height:normal;font-family:Menlo,'DejaVu Sans Mono',consolas,'Courier New',monospace\"> WRatio                    <span style=\"color: #008080; text-decoration-color: #008080; font-weight: bold\">50.0</span>\n",
       "</pre>\n"
      ],
      "text/plain": [
       " WRatio                    \u001B[1;36m50.0\u001B[0m\n"
      ]
     },
     "metadata": {},
     "output_type": "display_data"
    },
    {
     "data": {
      "text/html": [
       "<pre style=\"white-space:pre;overflow-x:auto;line-height:normal;font-family:Menlo,'DejaVu Sans Mono',consolas,'Courier New',monospace\"> partial_ratio             <span style=\"color: #008080; text-decoration-color: #008080; font-weight: bold\">66.667</span>\n",
       "</pre>\n"
      ],
      "text/plain": [
       " partial_ratio             \u001B[1;36m66.667\u001B[0m\n"
      ]
     },
     "metadata": {},
     "output_type": "display_data"
    },
    {
     "data": {
      "text/html": [
       "<pre style=\"white-space:pre;overflow-x:auto;line-height:normal;font-family:Menlo,'DejaVu Sans Mono',consolas,'Courier New',monospace\"> partial_ratio_alignment   <span style=\"color: #800080; text-decoration-color: #800080; font-weight: bold\">ScoreAlignment</span><span style=\"font-weight: bold\">(</span><span style=\"color: #808000; text-decoration-color: #808000\">score</span>=<span style=\"color: #008080; text-decoration-color: #008080; font-weight: bold\">66.66666666666667</span>, <span style=\"color: #808000; text-decoration-color: #808000\">src_start</span>=<span style=\"color: #008080; text-decoration-color: #008080; font-weight: bold\">0</span>, <span style=\"color: #808000; text-decoration-color: #808000\">src_end</span>=<span style=\"color: #008080; text-decoration-color: #008080; font-weight: bold\">6</span>, <span style=\"color: #808000; text-decoration-color: #808000\">dest_start</span>=<span style=\"color: #008080; text-decoration-color: #008080; font-weight: bold\">0</span>, \n",
       "<span style=\"color: #808000; text-decoration-color: #808000\">dest_end</span>=<span style=\"color: #008080; text-decoration-color: #008080; font-weight: bold\">3</span><span style=\"font-weight: bold\">)</span>\n",
       "</pre>\n"
      ],
      "text/plain": [
       " partial_ratio_alignment   \u001B[1;35mScoreAlignment\u001B[0m\u001B[1m(\u001B[0m\u001B[33mscore\u001B[0m=\u001B[1;36m66\u001B[0m\u001B[1;36m.66666666666667\u001B[0m, \u001B[33msrc_start\u001B[0m=\u001B[1;36m0\u001B[0m, \u001B[33msrc_end\u001B[0m=\u001B[1;36m6\u001B[0m, \u001B[33mdest_start\u001B[0m=\u001B[1;36m0\u001B[0m, \n",
       "\u001B[33mdest_end\u001B[0m=\u001B[1;36m3\u001B[0m\u001B[1m)\u001B[0m\n"
      ]
     },
     "metadata": {},
     "output_type": "display_data"
    },
    {
     "data": {
      "text/html": [
       "<pre style=\"white-space:pre;overflow-x:auto;line-height:normal;font-family:Menlo,'DejaVu Sans Mono',consolas,'Courier New',monospace\"> partial_token_ratio       <span style=\"color: #008080; text-decoration-color: #008080; font-weight: bold\">66.667</span>\n",
       "</pre>\n"
      ],
      "text/plain": [
       " partial_token_ratio       \u001B[1;36m66.667\u001B[0m\n"
      ]
     },
     "metadata": {},
     "output_type": "display_data"
    },
    {
     "data": {
      "text/html": [
       "<pre style=\"white-space:pre;overflow-x:auto;line-height:normal;font-family:Menlo,'DejaVu Sans Mono',consolas,'Courier New',monospace\"> partial_token_set_ratio   <span style=\"color: #008080; text-decoration-color: #008080; font-weight: bold\">66.667</span>\n",
       "</pre>\n"
      ],
      "text/plain": [
       " partial_token_set_ratio   \u001B[1;36m66.667\u001B[0m\n"
      ]
     },
     "metadata": {},
     "output_type": "display_data"
    },
    {
     "data": {
      "text/html": [
       "<pre style=\"white-space:pre;overflow-x:auto;line-height:normal;font-family:Menlo,'DejaVu Sans Mono',consolas,'Courier New',monospace\"> partial_token_sort_ratio  <span style=\"color: #008080; text-decoration-color: #008080; font-weight: bold\">66.667</span>\n",
       "</pre>\n"
      ],
      "text/plain": [
       " partial_token_sort_ratio  \u001B[1;36m66.667\u001B[0m\n"
      ]
     },
     "metadata": {},
     "output_type": "display_data"
    },
    {
     "data": {
      "text/html": [
       "<pre style=\"white-space:pre;overflow-x:auto;line-height:normal;font-family:Menlo,'DejaVu Sans Mono',consolas,'Courier New',monospace\"> ratio                     <span style=\"color: #008080; text-decoration-color: #008080; font-weight: bold\">50.0</span>\n",
       "</pre>\n"
      ],
      "text/plain": [
       " ratio                     \u001B[1;36m50.0\u001B[0m\n"
      ]
     },
     "metadata": {},
     "output_type": "display_data"
    },
    {
     "data": {
      "text/html": [
       "<pre style=\"white-space:pre;overflow-x:auto;line-height:normal;font-family:Menlo,'DejaVu Sans Mono',consolas,'Courier New',monospace\"> token_ratio               <span style=\"color: #008080; text-decoration-color: #008080; font-weight: bold\">50.0</span>\n",
       "</pre>\n"
      ],
      "text/plain": [
       " token_ratio               \u001B[1;36m50.0\u001B[0m\n"
      ]
     },
     "metadata": {},
     "output_type": "display_data"
    },
    {
     "data": {
      "text/html": [
       "<pre style=\"white-space:pre;overflow-x:auto;line-height:normal;font-family:Menlo,'DejaVu Sans Mono',consolas,'Courier New',monospace\"> token_set_ratio           <span style=\"color: #008080; text-decoration-color: #008080; font-weight: bold\">50.0</span>\n",
       "</pre>\n"
      ],
      "text/plain": [
       " token_set_ratio           \u001B[1;36m50.0\u001B[0m\n"
      ]
     },
     "metadata": {},
     "output_type": "display_data"
    },
    {
     "data": {
      "text/html": [
       "<pre style=\"white-space:pre;overflow-x:auto;line-height:normal;font-family:Menlo,'DejaVu Sans Mono',consolas,'Courier New',monospace\"> token_sort_ratio          <span style=\"color: #008080; text-decoration-color: #008080; font-weight: bold\">50.0</span>\n",
       "</pre>\n"
      ],
      "text/plain": [
       " token_sort_ratio          \u001B[1;36m50.0\u001B[0m\n"
      ]
     },
     "metadata": {},
     "output_type": "display_data"
    },
    {
     "data": {
      "text/html": [
       "<pre style=\"white-space:pre;overflow-x:auto;line-height:normal;font-family:Menlo,'DejaVu Sans Mono',consolas,'Courier New',monospace\"><span style=\"color: #ffffff; text-decoration-color: #ffffff; font-weight: bold\">abcdef:fedcba</span>\n",
       "</pre>\n"
      ],
      "text/plain": [
       "\u001B[1;97mab\u001B[0m\u001B[1;97mcdef:fedc\u001B[0m\u001B[1;97mba\u001B[0m\n"
      ]
     },
     "metadata": {},
     "output_type": "display_data"
    },
    {
     "data": {
      "text/html": [
       "<pre style=\"white-space:pre;overflow-x:auto;line-height:normal;font-family:Menlo,'DejaVu Sans Mono',consolas,'Courier New',monospace\"> QRatio                    <span style=\"color: #008080; text-decoration-color: #008080; font-weight: bold\">16.667</span>\n",
       "</pre>\n"
      ],
      "text/plain": [
       " QRatio                    \u001B[1;36m16.667\u001B[0m\n"
      ]
     },
     "metadata": {},
     "output_type": "display_data"
    },
    {
     "data": {
      "text/html": [
       "<pre style=\"white-space:pre;overflow-x:auto;line-height:normal;font-family:Menlo,'DejaVu Sans Mono',consolas,'Courier New',monospace\"> WRatio                    <span style=\"color: #008080; text-decoration-color: #008080; font-weight: bold\">16.667</span>\n",
       "</pre>\n"
      ],
      "text/plain": [
       " WRatio                    \u001B[1;36m16.667\u001B[0m\n"
      ]
     },
     "metadata": {},
     "output_type": "display_data"
    },
    {
     "data": {
      "text/html": [
       "<pre style=\"white-space:pre;overflow-x:auto;line-height:normal;font-family:Menlo,'DejaVu Sans Mono',consolas,'Courier New',monospace\"> partial_ratio             <span style=\"color: #008080; text-decoration-color: #008080; font-weight: bold\">28.571</span>\n",
       "</pre>\n"
      ],
      "text/plain": [
       " partial_ratio             \u001B[1;36m28.571\u001B[0m\n"
      ]
     },
     "metadata": {},
     "output_type": "display_data"
    },
    {
     "data": {
      "text/html": [
       "<pre style=\"white-space:pre;overflow-x:auto;line-height:normal;font-family:Menlo,'DejaVu Sans Mono',consolas,'Courier New',monospace\"> partial_ratio_alignment   <span style=\"color: #800080; text-decoration-color: #800080; font-weight: bold\">ScoreAlignment</span><span style=\"font-weight: bold\">(</span><span style=\"color: #808000; text-decoration-color: #808000\">score</span>=<span style=\"color: #008080; text-decoration-color: #008080; font-weight: bold\">28.57142857142857</span>, <span style=\"color: #808000; text-decoration-color: #808000\">src_start</span>=<span style=\"color: #008080; text-decoration-color: #008080; font-weight: bold\">0</span>, <span style=\"color: #808000; text-decoration-color: #808000\">src_end</span>=<span style=\"color: #008080; text-decoration-color: #008080; font-weight: bold\">6</span>, <span style=\"color: #808000; text-decoration-color: #808000\">dest_start</span>=<span style=\"color: #008080; text-decoration-color: #008080; font-weight: bold\">0</span>, \n",
       "<span style=\"color: #808000; text-decoration-color: #808000\">dest_end</span>=<span style=\"color: #008080; text-decoration-color: #008080; font-weight: bold\">1</span><span style=\"font-weight: bold\">)</span>\n",
       "</pre>\n"
      ],
      "text/plain": [
       " partial_ratio_alignment   \u001B[1;35mScoreAlignment\u001B[0m\u001B[1m(\u001B[0m\u001B[33mscore\u001B[0m=\u001B[1;36m28\u001B[0m\u001B[1;36m.57142857142857\u001B[0m, \u001B[33msrc_start\u001B[0m=\u001B[1;36m0\u001B[0m, \u001B[33msrc_end\u001B[0m=\u001B[1;36m6\u001B[0m, \u001B[33mdest_start\u001B[0m=\u001B[1;36m0\u001B[0m, \n",
       "\u001B[33mdest_end\u001B[0m=\u001B[1;36m1\u001B[0m\u001B[1m)\u001B[0m\n"
      ]
     },
     "metadata": {},
     "output_type": "display_data"
    },
    {
     "data": {
      "text/html": [
       "<pre style=\"white-space:pre;overflow-x:auto;line-height:normal;font-family:Menlo,'DejaVu Sans Mono',consolas,'Courier New',monospace\"> partial_token_ratio       <span style=\"color: #008080; text-decoration-color: #008080; font-weight: bold\">28.571</span>\n",
       "</pre>\n"
      ],
      "text/plain": [
       " partial_token_ratio       \u001B[1;36m28.571\u001B[0m\n"
      ]
     },
     "metadata": {},
     "output_type": "display_data"
    },
    {
     "data": {
      "text/html": [
       "<pre style=\"white-space:pre;overflow-x:auto;line-height:normal;font-family:Menlo,'DejaVu Sans Mono',consolas,'Courier New',monospace\"> partial_token_set_ratio   <span style=\"color: #008080; text-decoration-color: #008080; font-weight: bold\">28.571</span>\n",
       "</pre>\n"
      ],
      "text/plain": [
       " partial_token_set_ratio   \u001B[1;36m28.571\u001B[0m\n"
      ]
     },
     "metadata": {},
     "output_type": "display_data"
    },
    {
     "data": {
      "text/html": [
       "<pre style=\"white-space:pre;overflow-x:auto;line-height:normal;font-family:Menlo,'DejaVu Sans Mono',consolas,'Courier New',monospace\"> partial_token_sort_ratio  <span style=\"color: #008080; text-decoration-color: #008080; font-weight: bold\">28.571</span>\n",
       "</pre>\n"
      ],
      "text/plain": [
       " partial_token_sort_ratio  \u001B[1;36m28.571\u001B[0m\n"
      ]
     },
     "metadata": {},
     "output_type": "display_data"
    },
    {
     "data": {
      "text/html": [
       "<pre style=\"white-space:pre;overflow-x:auto;line-height:normal;font-family:Menlo,'DejaVu Sans Mono',consolas,'Courier New',monospace\"> ratio                     <span style=\"color: #008080; text-decoration-color: #008080; font-weight: bold\">16.667</span>\n",
       "</pre>\n"
      ],
      "text/plain": [
       " ratio                     \u001B[1;36m16.667\u001B[0m\n"
      ]
     },
     "metadata": {},
     "output_type": "display_data"
    },
    {
     "data": {
      "text/html": [
       "<pre style=\"white-space:pre;overflow-x:auto;line-height:normal;font-family:Menlo,'DejaVu Sans Mono',consolas,'Courier New',monospace\"> token_ratio               <span style=\"color: #008080; text-decoration-color: #008080; font-weight: bold\">16.667</span>\n",
       "</pre>\n"
      ],
      "text/plain": [
       " token_ratio               \u001B[1;36m16.667\u001B[0m\n"
      ]
     },
     "metadata": {},
     "output_type": "display_data"
    },
    {
     "data": {
      "text/html": [
       "<pre style=\"white-space:pre;overflow-x:auto;line-height:normal;font-family:Menlo,'DejaVu Sans Mono',consolas,'Courier New',monospace\"> token_set_ratio           <span style=\"color: #008080; text-decoration-color: #008080; font-weight: bold\">16.667</span>\n",
       "</pre>\n"
      ],
      "text/plain": [
       " token_set_ratio           \u001B[1;36m16.667\u001B[0m\n"
      ]
     },
     "metadata": {},
     "output_type": "display_data"
    },
    {
     "data": {
      "text/html": [
       "<pre style=\"white-space:pre;overflow-x:auto;line-height:normal;font-family:Menlo,'DejaVu Sans Mono',consolas,'Courier New',monospace\"> token_sort_ratio          <span style=\"color: #008080; text-decoration-color: #008080; font-weight: bold\">16.667</span>\n",
       "</pre>\n"
      ],
      "text/plain": [
       " token_sort_ratio          \u001B[1;36m16.667\u001B[0m\n"
      ]
     },
     "metadata": {},
     "output_type": "display_data"
    }
   ],
   "source": [
    "for pair in pairs:\n",
    "    print(f'[bright_white bold]{pair[0]}:{pair[1]}[/]')\n",
    "    for ratio_fn in ratio_fns:\n",
    "        try:\n",
    "            ratio = getattr(fuzz, ratio_fn)(*pair)\n",
    "            ratio = round(ratio, 3) if hasattr(ratio, '__round__') else ratio\n",
    "            print(f' {ratio_fn: <25}', ratio)\n",
    "        except Exception as e:\n",
    "            print(' ', repr(e))"
   ]
  }
 ],
 "metadata": {
  "kernelspec": {
   "display_name": "Python 3 (ipykernel)",
   "language": "python",
   "name": "python3"
  },
  "language_info": {
   "codemirror_mode": {
    "name": "ipython",
    "version": 3
   },
   "file_extension": ".py",
   "mimetype": "text/x-python",
   "name": "python",
   "nbconvert_exporter": "python",
   "pygments_lexer": "ipython3",
   "version": "3.11.0rc1"
  }
 },
 "nbformat": 4,
 "nbformat_minor": 5
}
